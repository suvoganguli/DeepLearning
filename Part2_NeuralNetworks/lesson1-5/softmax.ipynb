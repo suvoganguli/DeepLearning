{
 "cells": [
  {
   "cell_type": "code",
   "execution_count": 228,
   "metadata": {},
   "outputs": [
    {
     "name": "stdout",
     "output_type": "stream",
     "text": [
      "[0.6652409557748219, 0.24472847105479764, 0.090030573170380462]\n"
     ]
    }
   ],
   "source": [
    "# Softmax\n",
    "\n",
    "import numpy as np\n",
    "\n",
    "# Write a function that takes as input a list of numbers, and returns\n",
    "# the list of values given by the softmax function.\n",
    "def softmax(L):\n",
    "    \n",
    "    method = 2    \n",
    "    if method == 1:\n",
    "        n = len(L)\n",
    "        p = np.zeros(n)\n",
    "\n",
    "        den = 0\n",
    "        for i in range(n):\n",
    "            den += np.exp(L[i])\n",
    "\n",
    "        for i in range(n):\n",
    "            p[i] = np.exp(L[i])/den\n",
    "\n",
    "        return p\n",
    "    \n",
    "    elif method == 2:\n",
    "        expL = np.exp(L)\n",
    "        sumExpL = sum(expL)\n",
    "        result = []\n",
    "        for i in expL:\n",
    "            result.append(i*1.0/sumExpL)\n",
    "        return result\n",
    "\n",
    "\n",
    "L = np.array([2,1,0])\n",
    "p = softmax(L)\n",
    "print(p)\n"
   ]
  }
 ],
 "metadata": {
  "kernelspec": {
   "display_name": "Python [default]",
   "language": "python",
   "name": "python3"
  },
  "language_info": {
   "codemirror_mode": {
    "name": "ipython",
    "version": 3
   },
   "file_extension": ".py",
   "mimetype": "text/x-python",
   "name": "python",
   "nbconvert_exporter": "python",
   "pygments_lexer": "ipython3",
   "version": "3.6.3"
  }
 },
 "nbformat": 4,
 "nbformat_minor": 1
}
