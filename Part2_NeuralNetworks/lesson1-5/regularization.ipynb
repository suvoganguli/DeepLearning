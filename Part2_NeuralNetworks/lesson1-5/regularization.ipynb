{
 "cells": [
  {
   "cell_type": "markdown",
   "metadata": {},
   "source": [
    "# Lesson 3: Training Neural Networks"
   ]
  },
  {
   "cell_type": "code",
   "execution_count": 3,
   "metadata": {},
   "outputs": [
    {
     "name": "stdout",
     "output_type": "stream",
     "text": [
      "0.880797077978 0.880797077978\n",
      "0.999999997939 0.999999997939\n"
     ]
    }
   ],
   "source": [
    "# Quiz - Slide 5\n",
    "\n",
    "import numpy as np\n",
    "\n",
    "def sigmoid(x):\n",
    "    return 1/(1+np.exp(-x))\n",
    "\n",
    "p1 = np.array([1,1])\n",
    "p2 = np.array([-1,-1])\n",
    "\n",
    "wA = np.array([1,1])\n",
    "bA = 0\n",
    "wB = np.array([10,10])\n",
    "bB = 0\n",
    "\n",
    "# model A\n",
    "y1 = sigmoid(np.dot(wA,p1)+bA)\n",
    "y2 = sigmoid(np.dot(wA,p1)+bA)\n",
    "print(y1,y2)\n",
    "\n",
    "# model B\n",
    "y1 = sigmoid(np.dot(wB,p1)+bB)\n",
    "y2 = sigmoid(np.dot(wB,p1)+bB)\n",
    "print(y1,y2)\n",
    "\n",
    "\n"
   ]
  }
 ],
 "metadata": {
  "kernelspec": {
   "display_name": "Python [default]",
   "language": "python",
   "name": "python3"
  },
  "language_info": {
   "codemirror_mode": {
    "name": "ipython",
    "version": 3
   },
   "file_extension": ".py",
   "mimetype": "text/x-python",
   "name": "python",
   "nbconvert_exporter": "python",
   "pygments_lexer": "ipython3",
   "version": "3.6.3"
  }
 },
 "nbformat": 4,
 "nbformat_minor": 2
}
