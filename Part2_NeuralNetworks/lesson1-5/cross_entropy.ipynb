{
 "cells": [
  {
   "cell_type": "code",
   "execution_count": 1,
   "metadata": {},
   "outputs": [
    {
     "name": "stdout",
     "output_type": "stream",
     "text": [
      "0.685179010911\n"
     ]
    }
   ],
   "source": [
    "# Cross Entropy\n",
    "\n",
    "import numpy as np\n",
    "\n",
    "# Write a function that takes as input two lists Y, P,\n",
    "# and returns the float corresponding to their cross-entropy.\n",
    "def cross_entropy(Y, P):\n",
    "    \n",
    "    method = 2\n",
    "    if method == 1:\n",
    "        n = len(Y)    \n",
    "        CE = 0\n",
    "        for k in range(n):\n",
    "            CE = CE - Y[k]*np.log(P[k]) - (1-Y[k])*np.log(1-P[k])    \n",
    "        return CR\n",
    "    elif method == 2:\n",
    "        Y = np.float_(Y)\n",
    "        P = np.float_(P)\n",
    "        return -np.sum(Y * np.log(P) + (1 - Y) * np.log(1 - P))\n",
    "\n",
    "Y = [1,1,0]\n",
    "P = [0.8,0.7,0.1]\n",
    "CE = cross_entropy(Y,P)\n",
    "print(CE)\n"
   ]
  },
  {
   "cell_type": "code",
   "execution_count": 5,
   "metadata": {},
   "outputs": [
    {
     "name": "stdout",
     "output_type": "stream",
     "text": [
      "[ 0.88079708]\n"
     ]
    }
   ],
   "source": [
    "import numpy as np\n",
    "\n",
    "def sigmoid(x):\n",
    "    sigma = 1/(1 + np.exp(-x))\n",
    "    return sigma\n",
    "\n",
    "x = np.array([0.4, 0.6])\n",
    "\n",
    "w = np.array([3,5])\n",
    "b = np.array([-2.2])\n",
    "print(sigmoid( np.dot(w,x) + b ))\n",
    "\n"
   ]
  }
 ],
 "metadata": {
  "kernelspec": {
   "display_name": "Python [default]",
   "language": "python",
   "name": "python3"
  },
  "language_info": {
   "codemirror_mode": {
    "name": "ipython",
    "version": 3
   },
   "file_extension": ".py",
   "mimetype": "text/x-python",
   "name": "python",
   "nbconvert_exporter": "python",
   "pygments_lexer": "ipython3",
   "version": "3.6.3"
  }
 },
 "nbformat": 4,
 "nbformat_minor": 1
}
