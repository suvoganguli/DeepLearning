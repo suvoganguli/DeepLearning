{
 "cells": [
  {
   "cell_type": "markdown",
   "metadata": {},
   "source": [
    "# Deep Q-learning\n",
    "\n",
    "In this notebook, we'll build a neural network that can learn to play games through reinforcement learning. More specifically, we'll use Q-learning to train an agent to play a game called [Cart-Pole](https://gym.openai.com/envs/CartPole-v0). In this game, a freely swinging pole is attached to a cart. The cart can move to the left and right, and the goal is to keep the pole upright as long as possible.\n",
    "\n",
    "![Cart-Pole](assets/cart-pole.jpg)\n",
    "\n",
    "We can simulate this game using [OpenAI Gym](https://gym.openai.com/). First, let's check out how OpenAI Gym works. Then, we'll get into training an agent to play the Cart-Pole game."
   ]
  },
  {
   "cell_type": "code",
   "execution_count": 20,
   "metadata": {
    "collapsed": true
   },
   "outputs": [],
   "source": [
    "import gym\n",
    "import tensorflow as tf\n",
    "import numpy as np"
   ]
  },
  {
   "cell_type": "markdown",
   "metadata": {},
   "source": [
    ">**Note:** Make sure you have OpenAI Gym cloned into the same directory with this notebook. I've included `gym` as a submodule, so you can run `git submodule --init --recursive` to pull the contents into the `gym` repo."
   ]
  },
  {
   "cell_type": "code",
   "execution_count": 21,
   "metadata": {},
   "outputs": [
    {
     "name": "stdout",
     "output_type": "stream",
     "text": [
      "\u001b[33mWARN: gym.spaces.Box autodetected dtype as <class 'numpy.float32'>. Please provide explicit dtype.\u001b[0m\n"
     ]
    }
   ],
   "source": [
    "# Create the Cart-Pole game environment\n",
    "env = gym.make('CartPole-v0')"
   ]
  },
  {
   "cell_type": "markdown",
   "metadata": {},
   "source": [
    "We interact with the simulation through `env`. To show the simulation running, you can use `env.render()` to render one frame. Passing in an action as an integer to `env.step` will generate the next step in the simulation.  You can see how many actions are possible from `env.action_space` and to get a random action you can use `env.action_space.sample()`. This is general to all Gym games. In the Cart-Pole game, there are two possible actions, moving the cart left or right. So there are two actions we can take, encoded as 0 and 1.\n",
    "\n",
    "Run the code below to watch the simulation run."
   ]
  },
  {
   "cell_type": "code",
   "execution_count": 19,
   "metadata": {
    "collapsed": true
   },
   "outputs": [],
   "source": [
    "env.reset()\n",
    "rewards = []\n",
    "for _ in range(100):\n",
    "    env.render()\n",
    "    state, reward, done, info = env.step(env.action_space.sample()) # take a random action\n",
    "    rewards.append(reward)\n",
    "    if done:\n",
    "        rewards = []\n",
    "        env.reset()"
   ]
  },
  {
   "cell_type": "markdown",
   "metadata": {},
   "source": [
    "To shut the window showing the simulation, use `env.close()`."
   ]
  },
  {
   "cell_type": "markdown",
   "metadata": {},
   "source": [
    "If you ran the simulation above, we can look at the rewards:"
   ]
  },
  {
   "cell_type": "code",
   "execution_count": 5,
   "metadata": {},
   "outputs": [
    {
     "name": "stdout",
     "output_type": "stream",
     "text": [
      "[1.0, 1.0, 1.0, 1.0, 1.0, 1.0, 1.0, 1.0, 1.0, 1.0, 1.0, 1.0]\n"
     ]
    }
   ],
   "source": [
    "print(rewards[-20:])"
   ]
  },
  {
   "cell_type": "markdown",
   "metadata": {},
   "source": [
    "The game resets after the pole has fallen past a certain angle. For each frame while the simulation is running, it returns a reward of 1.0. The longer the game runs, the more reward we get. Then, our network's goal is to maximize the reward by keeping the pole vertical. It will do this by moving the cart to the left and the right."
   ]
  },
  {
   "cell_type": "markdown",
   "metadata": {},
   "source": [
    "## Q-Network\n",
    "\n",
    "We train our Q-learning agent using the Bellman Equation:\n",
    "\n",
    "$$\n",
    "Q(s, a) = r + \\gamma \\max{Q(s', a')}\n",
    "$$\n",
    "\n",
    "where $s$ is a state, $a$ is an action, and $s'$ is the next state from state $s$ and action $a$.\n",
    "\n",
    "Before we used this equation to learn values for a Q-_table_. However, for this game there are a huge number of states available. The state has four values: the position and velocity of the cart, and the position and velocity of the pole. These are all real-valued numbers, so ignoring floating point precisions, you practically have infinite states. Instead of using a table then, we'll replace it with a neural network that will approximate the Q-table lookup function.\n",
    "\n",
    "<img src=\"assets/deep-q-learning.png\" width=450px>\n",
    "\n",
    "Now, our Q value, $Q(s, a)$ is calculated by passing in a state to the network. The output will be Q-values for each available action, with fully connected hidden layers.\n",
    "\n",
    "<img src=\"assets/q-network.png\" width=550px>\n",
    "\n",
    "\n",
    "As I showed before, we can define our targets for training as $\\hat{Q}(s,a) = r + \\gamma \\max{Q(s', a')}$. Then we update the weights by minimizing $(\\hat{Q}(s,a) - Q(s,a))^2$. \n",
    "\n",
    "For this Cart-Pole game, we have four inputs, one for each value in the state, and two outputs, one for each action. To get $\\hat{Q}$, we'll first choose an action, then simulate the game using that action. This will get us the next state, $s'$, and the reward. With that, we can calculate $\\hat{Q}$ then pass it back into the $Q$ network to run the optimizer and update the weights.\n",
    "\n",
    "Below is my implementation of the Q-network. I used two fully connected layers with ReLU activations. Two seems to be good enough, three might be better. Feel free to try it out."
   ]
  },
  {
   "cell_type": "code",
   "execution_count": 6,
   "metadata": {
    "collapsed": true
   },
   "outputs": [],
   "source": [
    "class QNetwork:\n",
    "    def __init__(self, learning_rate=0.01, state_size=4, \n",
    "                 action_size=2, hidden_size=10, \n",
    "                 name='QNetwork'):\n",
    "        # state inputs to the Q-network\n",
    "        with tf.variable_scope(name):\n",
    "            self.inputs_ = tf.placeholder(tf.float32, [None, state_size], name='inputs')\n",
    "            \n",
    "            # One hot encode the actions to later choose the Q-value for the action\n",
    "            self.actions_ = tf.placeholder(tf.int32, [None], name='actions')\n",
    "            one_hot_actions = tf.one_hot(self.actions_, action_size)\n",
    "            \n",
    "            # Target Q values for training\n",
    "            self.targetQs_ = tf.placeholder(tf.float32, [None], name='target')\n",
    "            \n",
    "            # ReLU hidden layers\n",
    "            self.fc1 = tf.contrib.layers.fully_connected(self.inputs_, hidden_size)\n",
    "            self.fc2 = tf.contrib.layers.fully_connected(self.fc1, hidden_size)\n",
    "\n",
    "            # Linear output layer\n",
    "            self.output = tf.contrib.layers.fully_connected(self.fc2, action_size, \n",
    "                                                            activation_fn=None)\n",
    "            \n",
    "            ### Train with loss (targetQ - Q)^2\n",
    "            # output has length 2, for two actions. This next line chooses\n",
    "            # one value from output (per row) according to the one-hot encoded actions.\n",
    "            self.Q = tf.reduce_sum(tf.multiply(self.output, one_hot_actions), axis=1)\n",
    "            \n",
    "            self.loss = tf.reduce_mean(tf.square(self.targetQs_ - self.Q))\n",
    "            self.opt = tf.train.AdamOptimizer(learning_rate).minimize(self.loss)"
   ]
  },
  {
   "cell_type": "markdown",
   "metadata": {},
   "source": [
    "## Experience replay\n",
    "\n",
    "Reinforcement learning algorithms can have stability issues due to correlations between states. To reduce correlations when training, we can store the agent's experiences and later draw a random mini-batch of those experiences to train on. \n",
    "\n",
    "Here, we'll create a `Memory` object that will store our experiences, our transitions $<s, a, r, s'>$. This memory will have a maxmium capacity, so we can keep newer experiences in memory while getting rid of older experiences. Then, we'll sample a random mini-batch of transitions $<s, a, r, s'>$ and train on those.\n",
    "\n",
    "Below, I've implemented a `Memory` object. If you're unfamiliar with `deque`, this is a double-ended queue. You can think of it like a tube open on both sides. You can put objects in either side of the tube. But if it's full, adding anything more will push an object out the other side. This is a great data structure to use for the memory buffer."
   ]
  },
  {
   "cell_type": "code",
   "execution_count": 7,
   "metadata": {
    "collapsed": true
   },
   "outputs": [],
   "source": [
    "from collections import deque\n",
    "class Memory():\n",
    "    def __init__(self, max_size = 1000):\n",
    "        self.buffer = deque(maxlen=max_size)\n",
    "    \n",
    "    def add(self, experience):\n",
    "        self.buffer.append(experience)\n",
    "            \n",
    "    def sample(self, batch_size):\n",
    "        idx = np.random.choice(np.arange(len(self.buffer)), \n",
    "                               size=batch_size, \n",
    "                               replace=False)\n",
    "        return [self.buffer[ii] for ii in idx]"
   ]
  },
  {
   "cell_type": "markdown",
   "metadata": {},
   "source": [
    "## Exploration - Exploitation\n",
    "\n",
    "To learn about the environment and rules of the game, the agent needs to explore by taking random actions. We'll do this by choosing a random action with some probability $\\epsilon$ (epsilon).  That is, with some probability $\\epsilon$ the agent will make a random action and with probability $1 - \\epsilon$, the agent will choose an action from $Q(s,a)$. This is called an **$\\epsilon$-greedy policy**.\n",
    "\n",
    "\n",
    "At first, the agent needs to do a lot of exploring. Later when it has learned more, the agent can favor choosing actions based on what it has learned. This is called _exploitation_. We'll set it up so the agent is more likely to explore early in training, then more likely to exploit later in training."
   ]
  },
  {
   "cell_type": "markdown",
   "metadata": {},
   "source": [
    "## Q-Learning training algorithm\n",
    "\n",
    "Putting all this together, we can list out the algorithm we'll use to train the network. We'll train the network in _episodes_. One *episode* is one simulation of the game. For this game, the goal is to keep the pole upright for 195 frames. So we can start a new episode once meeting that goal. The game ends if the pole tilts over too far, or if the cart moves too far the left or right. When a game ends, we'll start a new episode. Now, to train the agent:\n",
    "\n",
    "* Initialize the memory $D$\n",
    "* Initialize the action-value network $Q$ with random weights\n",
    "* **For** episode = 1, $M$ **do**\n",
    "  * **For** $t$, $T$ **do**\n",
    "     * With probability $\\epsilon$ select a random action $a_t$, otherwise select $a_t = \\mathrm{argmax}_a Q(s,a)$\n",
    "     * Execute action $a_t$ in simulator and observe reward $r_{t+1}$ and new state $s_{t+1}$\n",
    "     * Store transition $<s_t, a_t, r_{t+1}, s_{t+1}>$ in memory $D$\n",
    "     * Sample random mini-batch from $D$: $<s_j, a_j, r_j, s'_j>$\n",
    "     * Set $\\hat{Q}_j = r_j$ if the episode ends at $j+1$, otherwise set $\\hat{Q}_j = r_j + \\gamma \\max_{a'}{Q(s'_j, a')}$\n",
    "     * Make a gradient descent step with loss $(\\hat{Q}_j - Q(s_j, a_j))^2$\n",
    "  * **endfor**\n",
    "* **endfor**"
   ]
  },
  {
   "cell_type": "markdown",
   "metadata": {},
   "source": [
    "## Hyperparameters\n",
    "\n",
    "One of the more difficult aspects of reinforcememt learning are the large number of hyperparameters. Not only are we tuning the network, but we're tuning the simulation."
   ]
  },
  {
   "cell_type": "code",
   "execution_count": 11,
   "metadata": {
    "collapsed": true
   },
   "outputs": [],
   "source": [
    "train_episodes = 100          # max number of episodes to learn from\n",
    "max_steps = 200                # max steps in an episode\n",
    "gamma = 0.99                   # future reward discount\n",
    "\n",
    "# Exploration parameters\n",
    "explore_start = 1.0            # exploration probability at start\n",
    "explore_stop = 0.01            # minimum exploration probability \n",
    "decay_rate = 0.0001            # exponential decay rate for exploration prob\n",
    "\n",
    "# Network parameters\n",
    "hidden_size = 64               # number of units in each Q-network hidden layer\n",
    "learning_rate = 0.0001         # Q-network learning rate\n",
    "\n",
    "# Memory parameters\n",
    "memory_size = 10000            # memory capacity\n",
    "batch_size = 20                # experience mini-batch size\n",
    "pretrain_length = batch_size   # number experiences to pretrain the memory"
   ]
  },
  {
   "cell_type": "code",
   "execution_count": 12,
   "metadata": {
    "collapsed": true
   },
   "outputs": [],
   "source": [
    "tf.reset_default_graph()\n",
    "mainQN = QNetwork(name='main', hidden_size=hidden_size, learning_rate=learning_rate)"
   ]
  },
  {
   "cell_type": "markdown",
   "metadata": {},
   "source": [
    "## Populate the experience memory\n",
    "\n",
    "Here I'm re-initializing the simulation and pre-populating the memory. The agent is taking random actions and storing the transitions in memory. This will help the agent with exploring the game."
   ]
  },
  {
   "cell_type": "code",
   "execution_count": 13,
   "metadata": {
    "collapsed": true
   },
   "outputs": [],
   "source": [
    "# Initialize the simulation\n",
    "env.reset()\n",
    "# Take one random step to get the pole and cart moving\n",
    "state, reward, done, _ = env.step(env.action_space.sample())\n",
    "\n",
    "memory = Memory(max_size=memory_size)\n",
    "\n",
    "# Make a bunch of random actions and store the experiences\n",
    "for ii in range(pretrain_length):\n",
    "    # Uncomment the line below to watch the simulation\n",
    "    # env.render()\n",
    "\n",
    "    # Make a random action\n",
    "    action = env.action_space.sample()\n",
    "    next_state, reward, done, _ = env.step(action)\n",
    "\n",
    "    if done:\n",
    "        # The simulation fails so no next state\n",
    "        next_state = np.zeros(state.shape)\n",
    "        # Add experience to memory\n",
    "        memory.add((state, action, reward, next_state))\n",
    "        \n",
    "        # Start new episode\n",
    "        env.reset()\n",
    "        # Take one random step to get the pole and cart moving\n",
    "        state, reward, done, _ = env.step(env.action_space.sample())\n",
    "    else:\n",
    "        # Add experience to memory\n",
    "        memory.add((state, action, reward, next_state))\n",
    "        state = next_state"
   ]
  },
  {
   "cell_type": "markdown",
   "metadata": {},
   "source": [
    "## Training\n",
    "\n",
    "Below we'll train our agent. If you want to watch it train, uncomment the `env.render()` line. This is slow because it's rendering the frames slower than the network can train. But, it's cool to watch the agent get better at the game."
   ]
  },
  {
   "cell_type": "code",
   "execution_count": 14,
   "metadata": {},
   "outputs": [
    {
     "name": "stdout",
     "output_type": "stream",
     "text": [
      "Episode: 1 Total reward: 47.0 Training loss: 1.0785 Explore P: 0.9954\n",
      "Episode: 2 Total reward: 15.0 Training loss: 1.1111 Explore P: 0.9939\n",
      "Episode: 3 Total reward: 25.0 Training loss: 1.0354 Explore P: 0.9914\n",
      "Episode: 4 Total reward: 15.0 Training loss: 1.0946 Explore P: 0.9900\n",
      "Episode: 5 Total reward: 9.0 Training loss: 1.1075 Explore P: 0.9891\n",
      "Episode: 6 Total reward: 20.0 Training loss: 1.0715 Explore P: 0.9871\n",
      "Episode: 7 Total reward: 18.0 Training loss: 1.1233 Explore P: 0.9854\n",
      "Episode: 8 Total reward: 13.0 Training loss: 1.1552 Explore P: 0.9841\n",
      "Episode: 9 Total reward: 11.0 Training loss: 1.1259 Explore P: 0.9830\n",
      "Episode: 10 Total reward: 16.0 Training loss: 1.0739 Explore P: 0.9815\n",
      "Episode: 11 Total reward: 19.0 Training loss: 1.0866 Explore P: 0.9796\n",
      "Episode: 12 Total reward: 14.0 Training loss: 1.1693 Explore P: 0.9783\n",
      "Episode: 13 Total reward: 11.0 Training loss: 1.1633 Explore P: 0.9772\n",
      "Episode: 14 Total reward: 31.0 Training loss: 1.2278 Explore P: 0.9742\n",
      "Episode: 15 Total reward: 22.0 Training loss: 1.3774 Explore P: 0.9721\n",
      "Episode: 16 Total reward: 23.0 Training loss: 1.2003 Explore P: 0.9699\n",
      "Episode: 17 Total reward: 15.0 Training loss: 1.4770 Explore P: 0.9684\n",
      "Episode: 18 Total reward: 14.0 Training loss: 1.3693 Explore P: 0.9671\n",
      "Episode: 19 Total reward: 23.0 Training loss: 1.5686 Explore P: 0.9649\n",
      "Episode: 20 Total reward: 23.0 Training loss: 1.5364 Explore P: 0.9627\n",
      "Episode: 21 Total reward: 29.0 Training loss: 1.4686 Explore P: 0.9599\n",
      "Episode: 22 Total reward: 11.0 Training loss: 1.7513 Explore P: 0.9589\n",
      "Episode: 23 Total reward: 14.0 Training loss: 2.1286 Explore P: 0.9576\n",
      "Episode: 24 Total reward: 15.0 Training loss: 1.5428 Explore P: 0.9562\n",
      "Episode: 25 Total reward: 40.0 Training loss: 2.2605 Explore P: 0.9524\n",
      "Episode: 26 Total reward: 16.0 Training loss: 3.5466 Explore P: 0.9509\n",
      "Episode: 27 Total reward: 65.0 Training loss: 2.5008 Explore P: 0.9448\n",
      "Episode: 28 Total reward: 25.0 Training loss: 2.4821 Explore P: 0.9424\n",
      "Episode: 29 Total reward: 9.0 Training loss: 9.0510 Explore P: 0.9416\n",
      "Episode: 30 Total reward: 13.0 Training loss: 6.3077 Explore P: 0.9404\n",
      "Episode: 31 Total reward: 14.0 Training loss: 3.0309 Explore P: 0.9391\n",
      "Episode: 32 Total reward: 24.0 Training loss: 3.2101 Explore P: 0.9369\n",
      "Episode: 33 Total reward: 19.0 Training loss: 2.6011 Explore P: 0.9351\n",
      "Episode: 34 Total reward: 23.0 Training loss: 2.8968 Explore P: 0.9330\n",
      "Episode: 35 Total reward: 42.0 Training loss: 4.3107 Explore P: 0.9291\n",
      "Episode: 36 Total reward: 15.0 Training loss: 3.0898 Explore P: 0.9277\n",
      "Episode: 37 Total reward: 12.0 Training loss: 12.7890 Explore P: 0.9266\n",
      "Episode: 38 Total reward: 23.0 Training loss: 2.7202 Explore P: 0.9245\n",
      "Episode: 39 Total reward: 34.0 Training loss: 12.7640 Explore P: 0.9214\n",
      "Episode: 40 Total reward: 15.0 Training loss: 3.1533 Explore P: 0.9201\n",
      "Episode: 41 Total reward: 24.0 Training loss: 5.9344 Explore P: 0.9179\n",
      "Episode: 42 Total reward: 14.0 Training loss: 6.6950 Explore P: 0.9166\n",
      "Episode: 43 Total reward: 19.0 Training loss: 6.2964 Explore P: 0.9149\n",
      "Episode: 44 Total reward: 37.0 Training loss: 4.6664 Explore P: 0.9115\n",
      "Episode: 45 Total reward: 18.0 Training loss: 1.9066 Explore P: 0.9099\n",
      "Episode: 46 Total reward: 11.0 Training loss: 10.6598 Explore P: 0.9089\n",
      "Episode: 47 Total reward: 13.0 Training loss: 3.5048 Explore P: 0.9078\n",
      "Episode: 48 Total reward: 34.0 Training loss: 25.0857 Explore P: 0.9047\n",
      "Episode: 49 Total reward: 13.0 Training loss: 3.7544 Explore P: 0.9036\n",
      "Episode: 50 Total reward: 38.0 Training loss: 2.3865 Explore P: 0.9002\n",
      "Episode: 51 Total reward: 17.0 Training loss: 3.4413 Explore P: 0.8987\n",
      "Episode: 52 Total reward: 22.0 Training loss: 9.6509 Explore P: 0.8967\n",
      "Episode: 53 Total reward: 58.0 Training loss: 5.0236 Explore P: 0.8916\n",
      "Episode: 54 Total reward: 11.0 Training loss: 4.4622 Explore P: 0.8906\n",
      "Episode: 55 Total reward: 14.0 Training loss: 15.9070 Explore P: 0.8894\n",
      "Episode: 56 Total reward: 23.0 Training loss: 12.8371 Explore P: 0.8873\n",
      "Episode: 57 Total reward: 24.0 Training loss: 3.9927 Explore P: 0.8852\n",
      "Episode: 58 Total reward: 22.0 Training loss: 5.1244 Explore P: 0.8833\n",
      "Episode: 59 Total reward: 13.0 Training loss: 8.9265 Explore P: 0.8822\n",
      "Episode: 60 Total reward: 8.0 Training loss: 52.4019 Explore P: 0.8815\n",
      "Episode: 61 Total reward: 15.0 Training loss: 22.5499 Explore P: 0.8802\n",
      "Episode: 62 Total reward: 36.0 Training loss: 13.0968 Explore P: 0.8771\n",
      "Episode: 63 Total reward: 19.0 Training loss: 24.2175 Explore P: 0.8754\n",
      "Episode: 64 Total reward: 10.0 Training loss: 72.8758 Explore P: 0.8745\n",
      "Episode: 65 Total reward: 30.0 Training loss: 5.4099 Explore P: 0.8720\n",
      "Episode: 66 Total reward: 17.0 Training loss: 8.2497 Explore P: 0.8705\n",
      "Episode: 67 Total reward: 19.0 Training loss: 4.9009 Explore P: 0.8689\n",
      "Episode: 68 Total reward: 15.0 Training loss: 13.3860 Explore P: 0.8676\n",
      "Episode: 69 Total reward: 16.0 Training loss: 5.7486 Explore P: 0.8662\n",
      "Episode: 70 Total reward: 21.0 Training loss: 33.2189 Explore P: 0.8644\n",
      "Episode: 71 Total reward: 17.0 Training loss: 24.5774 Explore P: 0.8630\n",
      "Episode: 72 Total reward: 14.0 Training loss: 5.9044 Explore P: 0.8618\n",
      "Episode: 73 Total reward: 16.0 Training loss: 4.4250 Explore P: 0.8604\n",
      "Episode: 74 Total reward: 13.0 Training loss: 4.7072 Explore P: 0.8593\n",
      "Episode: 75 Total reward: 9.0 Training loss: 32.2146 Explore P: 0.8585\n",
      "Episode: 76 Total reward: 16.0 Training loss: 38.4189 Explore P: 0.8572\n",
      "Episode: 77 Total reward: 31.0 Training loss: 36.2265 Explore P: 0.8546\n",
      "Episode: 78 Total reward: 25.0 Training loss: 51.8141 Explore P: 0.8524\n",
      "Episode: 79 Total reward: 38.0 Training loss: 7.0012 Explore P: 0.8492\n",
      "Episode: 80 Total reward: 34.0 Training loss: 22.4851 Explore P: 0.8464\n",
      "Episode: 81 Total reward: 15.0 Training loss: 52.2009 Explore P: 0.8451\n",
      "Episode: 82 Total reward: 13.0 Training loss: 5.2750 Explore P: 0.8441\n",
      "Episode: 83 Total reward: 18.0 Training loss: 49.6453 Explore P: 0.8426\n",
      "Episode: 84 Total reward: 11.0 Training loss: 7.0530 Explore P: 0.8416\n",
      "Episode: 85 Total reward: 15.0 Training loss: 130.7085 Explore P: 0.8404\n",
      "Episode: 86 Total reward: 18.0 Training loss: 138.9432 Explore P: 0.8389\n",
      "Episode: 87 Total reward: 17.0 Training loss: 6.7896 Explore P: 0.8375\n",
      "Episode: 88 Total reward: 10.0 Training loss: 72.1706 Explore P: 0.8367\n",
      "Episode: 89 Total reward: 21.0 Training loss: 7.2989 Explore P: 0.8349\n",
      "Episode: 90 Total reward: 16.0 Training loss: 83.4380 Explore P: 0.8336\n",
      "Episode: 91 Total reward: 12.0 Training loss: 9.2079 Explore P: 0.8326\n",
      "Episode: 92 Total reward: 13.0 Training loss: 231.5271 Explore P: 0.8316\n",
      "Episode: 93 Total reward: 18.0 Training loss: 5.2895 Explore P: 0.8301\n",
      "Episode: 94 Total reward: 23.0 Training loss: 10.7390 Explore P: 0.8282\n",
      "Episode: 95 Total reward: 16.0 Training loss: 7.4300 Explore P: 0.8269\n",
      "Episode: 96 Total reward: 9.0 Training loss: 7.3894 Explore P: 0.8262\n",
      "Episode: 97 Total reward: 13.0 Training loss: 25.9758 Explore P: 0.8251\n",
      "Episode: 98 Total reward: 18.0 Training loss: 45.7010 Explore P: 0.8236\n",
      "Episode: 99 Total reward: 19.0 Training loss: 139.9198 Explore P: 0.8221\n"
     ]
    }
   ],
   "source": [
    "# Now train with experiences\n",
    "saver = tf.train.Saver()\n",
    "rewards_list = []\n",
    "with tf.Session() as sess:\n",
    "    # Initialize variables\n",
    "    sess.run(tf.global_variables_initializer())\n",
    "    \n",
    "    step = 0\n",
    "    for ep in range(1, train_episodes):\n",
    "        total_reward = 0\n",
    "        t = 0\n",
    "        while t < max_steps:\n",
    "            step += 1\n",
    "            # Uncomment this next line to watch the training\n",
    "            # env.render() \n",
    "            \n",
    "            # Explore or Exploit\n",
    "            explore_p = explore_stop + (explore_start - explore_stop)*np.exp(-decay_rate*step) \n",
    "            if explore_p > np.random.rand():\n",
    "                # Make a random action\n",
    "                action = env.action_space.sample()\n",
    "            else:\n",
    "                # Get action from Q-network\n",
    "                feed = {mainQN.inputs_: state.reshape((1, *state.shape))}\n",
    "                Qs = sess.run(mainQN.output, feed_dict=feed)\n",
    "                action = np.argmax(Qs)\n",
    "            \n",
    "            # Take action, get new state and reward\n",
    "            next_state, reward, done, _ = env.step(action)\n",
    "    \n",
    "            total_reward += reward\n",
    "            \n",
    "            if done:\n",
    "                # the episode ends so no next state\n",
    "                next_state = np.zeros(state.shape)\n",
    "                t = max_steps\n",
    "                \n",
    "                print('Episode: {}'.format(ep),\n",
    "                      'Total reward: {}'.format(total_reward),\n",
    "                      'Training loss: {:.4f}'.format(loss),\n",
    "                      'Explore P: {:.4f}'.format(explore_p))\n",
    "                rewards_list.append((ep, total_reward))\n",
    "                \n",
    "                # Add experience to memory\n",
    "                memory.add((state, action, reward, next_state))\n",
    "                \n",
    "                # Start new episode\n",
    "                env.reset()\n",
    "                # Take one random step to get the pole and cart moving\n",
    "                state, reward, done, _ = env.step(env.action_space.sample())\n",
    "\n",
    "            else:\n",
    "                # Add experience to memory\n",
    "                memory.add((state, action, reward, next_state))\n",
    "                state = next_state\n",
    "                t += 1\n",
    "            \n",
    "            # Sample mini-batch from memory\n",
    "            batch = memory.sample(batch_size)\n",
    "            states = np.array([each[0] for each in batch])\n",
    "            actions = np.array([each[1] for each in batch])\n",
    "            rewards = np.array([each[2] for each in batch])\n",
    "            next_states = np.array([each[3] for each in batch])\n",
    "            \n",
    "            # Train network\n",
    "            target_Qs = sess.run(mainQN.output, feed_dict={mainQN.inputs_: next_states})\n",
    "            \n",
    "            # Set target_Qs to 0 for states where episode ends\n",
    "            episode_ends = (next_states == np.zeros(states[0].shape)).all(axis=1)\n",
    "            target_Qs[episode_ends] = (0, 0)\n",
    "            \n",
    "            targets = rewards + gamma * np.max(target_Qs, axis=1)\n",
    "\n",
    "            loss, _ = sess.run([mainQN.loss, mainQN.opt],\n",
    "                                feed_dict={mainQN.inputs_: states,\n",
    "                                           mainQN.targetQs_: targets,\n",
    "                                           mainQN.actions_: actions})\n",
    "        \n",
    "    saver.save(sess, \"checkpoints/cartpole.ckpt\")\n"
   ]
  },
  {
   "cell_type": "markdown",
   "metadata": {},
   "source": [
    "## Visualizing training\n",
    "\n",
    "Below I'll plot the total rewards for each episode. I'm plotting the rolling average too, in blue."
   ]
  },
  {
   "cell_type": "code",
   "execution_count": 15,
   "metadata": {
    "collapsed": true
   },
   "outputs": [],
   "source": [
    "%matplotlib inline\n",
    "import matplotlib.pyplot as plt\n",
    "\n",
    "def running_mean(x, N):\n",
    "    cumsum = np.cumsum(np.insert(x, 0, 0)) \n",
    "    return (cumsum[N:] - cumsum[:-N]) / N "
   ]
  },
  {
   "cell_type": "code",
   "execution_count": 16,
   "metadata": {},
   "outputs": [
    {
     "data": {
      "text/plain": [
       "<matplotlib.text.Text at 0x7f92a37bc6a0>"
      ]
     },
     "execution_count": 16,
     "metadata": {},
     "output_type": "execute_result"
    },
    {
     "data": {
      "image/png": "[encoded data removed]",
      "text/plain": [
       "<matplotlib.figure.Figure at 0x7f92a3784400>"
      ]
     },
     "metadata": {},
     "output_type": "display_data"
    }
   ],
   "source": [
    "eps, rews = np.array(rewards_list).T\n",
    "smoothed_rews = running_mean(rews, 10)\n",
    "plt.plot(eps[-len(smoothed_rews):], smoothed_rews)\n",
    "plt.plot(eps, rews, color='grey', alpha=0.3)\n",
    "plt.xlabel('Episode')\n",
    "plt.ylabel('Total Reward')"
   ]
  },
  {
   "cell_type": "markdown",
   "metadata": {},
   "source": [
    "## Testing\n",
    "\n",
    "Let's checkout how our trained agent plays the game."
   ]
  },
  {
   "cell_type": "code",
   "execution_count": 22,
   "metadata": {
    "collapsed": true
   },
   "outputs": [],
   "source": [
    "test_episodes = 10\n",
    "test_max_steps = 400\n",
    "env.reset()\n",
    "with tf.Session() as sess:\n",
    "    saver.restore(sess, tf.train.latest_checkpoint('checkpoints'))\n",
    "    \n",
    "    for ep in range(1, test_episodes):\n",
    "        t = 0\n",
    "        while t < test_max_steps:\n",
    "            env.render() \n",
    "            \n",
    "            # Get action from Q-network\n",
    "            feed = {mainQN.inputs_: state.reshape((1, *state.shape))}\n",
    "            Qs = sess.run(mainQN.output, feed_dict=feed)\n",
    "            action = np.argmax(Qs)\n",
    "            \n",
    "            # Take action, get new state and reward\n",
    "            next_state, reward, done, _ = env.step(action)\n",
    "            \n",
    "            if done:\n",
    "                t = test_max_steps\n",
    "                env.reset()\n",
    "                # Take one random step to get the pole and cart moving\n",
    "                state, reward, done, _ = env.step(env.action_space.sample())\n",
    "\n",
    "            else:\n",
    "                state = next_state\n",
    "                t += 1"
   ]
  },
  {
   "cell_type": "code",
   "execution_count": 184,
   "metadata": {
    "collapsed": true
   },
   "outputs": [],
   "source": [
    "env.close()"
   ]
  },
  {
   "cell_type": "markdown",
   "metadata": {},
   "source": [
    "## Extending this\n",
    "\n",
    "So, Cart-Pole is a pretty simple game. However, the same model can be used to train an agent to play something much more complicated like Pong or Space Invaders. Instead of a state like we're using here though, you'd want to use convolutional layers to get the state from the screen images.\n",
    "\n",
    "![Deep Q-Learning Atari](assets/atari-network.png)\n",
    "\n",
    "I'll leave it as a challenge for you to use deep Q-learning to train an agent to play Atari games. Here's the original paper which will get you started: http://www.davidqiu.com:8888/research/nature14236.pdf."
   ]
  }
 ],
 "metadata": {
  "kernelspec": {
   "display_name": "quadcop",
   "language": "python",
   "name": "quadcop"
  },
  "language_info": {
   "codemirror_mode": {
    "name": "ipython",
    "version": 3
   },
   "file_extension": ".py",
   "mimetype": "text/x-python",
   "name": "python",
   "nbconvert_exporter": "python",
   "pygments_lexer": "ipython3",
   "version": "3.6.5"
  }
 },
 "nbformat": 4,
 "nbformat_minor": 2
}
