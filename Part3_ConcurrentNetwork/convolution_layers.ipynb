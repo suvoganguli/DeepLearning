{
 "cells": [
  {
   "cell_type": "code",
   "execution_count": 1,
   "metadata": {},
   "outputs": [],
   "source": [
    "from keras.layers import Conv2D"
   ]
  },
  {
   "cell_type": "code",
   "execution_count": 16,
   "metadata": {},
   "outputs": [
    {
     "data": {
      "text/plain": [
       "<keras.layers.convolutional.Conv2D at 0x18212acdd8>"
      ]
     },
     "execution_count": 16,
     "metadata": {},
     "output_type": "execute_result"
    }
   ],
   "source": [
    "Conv2D(filters=16, kernel_size=2, strides=2, activation='relu', input_shape=(200,200,1))"
   ]
  },
  {
   "cell_type": "code",
   "execution_count": 32,
   "metadata": {},
   "outputs": [
    {
     "name": "stdout",
     "output_type": "stream",
     "text": [
      "_________________________________________________________________\n",
      "Layer (type)                 Output Shape              Param #   \n",
      "=================================================================\n",
      "conv2d_18 (Conv2D)           (None, 25, 25, 1)         17        \n",
      "=================================================================\n",
      "Total params: 17\n",
      "Trainable params: 17\n",
      "Non-trainable params: 0\n",
      "_________________________________________________________________\n",
      "17\n"
     ]
    }
   ],
   "source": [
    "# Number of Parameters in a Convolutional Layer\n",
    "\n",
    "from keras.models import Sequential\n",
    "from keras.layers import Conv2D\n",
    "\n",
    "model = Sequential()\n",
    "model.add(Conv2D(filters=1, kernel_size=4, strides=4, padding='valid', \n",
    "    activation='relu', input_shape=(100, 100, 1)))\n",
    "model.summary()\n",
    "\n",
    "K = 1  # number of filters\n",
    "F = 4  # kernel size\n",
    "D_in = 1 # depth\n",
    "n_params = K * (F**2 + 1)*D_in\n",
    "print(n_params)"
   ]
  },
  {
   "cell_type": "code",
   "execution_count": 44,
   "metadata": {},
   "outputs": [
    {
     "name": "stdout",
     "output_type": "stream",
     "text": [
      "_________________________________________________________________\n",
      "Layer (type)                 Output Shape              Param #   \n",
      "=================================================================\n",
      "conv2d_31 (Conv2D)           (None, 25, 25, 1)         17        \n",
      "=================================================================\n",
      "Total params: 17\n",
      "Trainable params: 17\n",
      "Non-trainable params: 0\n",
      "_________________________________________________________________\n",
      "25.0\n",
      "25.0\n",
      "_________________________________________________________________\n",
      "Layer (type)                 Output Shape              Param #   \n",
      "=================================================================\n",
      "conv2d_32 (Conv2D)           (None, 24, 24, 1)         17        \n",
      "=================================================================\n",
      "Total params: 17\n",
      "Trainable params: 17\n",
      "Non-trainable params: 0\n",
      "_________________________________________________________________\n",
      "24.0\n",
      "24.0\n"
     ]
    }
   ],
   "source": [
    "import numpy as np\n",
    "\n",
    "# padding = 'same'\n",
    "\n",
    "model = Sequential()\n",
    "model.add(Conv2D(filters=1, kernel_size=4, strides=4, padding='same', \n",
    "    activation='relu', input_shape=(98, 98, 1)))\n",
    "model.summary()\n",
    "\n",
    "K = 1  # number of filters\n",
    "F = 4  # kernel size\n",
    "D_in = 1 # depth\n",
    "S = 4 # stride of the convolutions\n",
    "H_in = 100 # height of previous layer\n",
    "W_in = 100 # width of previous layer\n",
    "\n",
    "height = np.ceil(np.float(H_in) / np.float(S))\n",
    "width = np.ceil(np.float(W_in) / np.float(S))\n",
    "\n",
    "print(height)\n",
    "print(width)\n",
    "\n",
    "# padding ='valid\n",
    "\n",
    "model = Sequential()\n",
    "model.add(Conv2D(filters=1, kernel_size=4, strides=4, padding='valid', \n",
    "    activation='relu', input_shape=(98, 98, 1)))\n",
    "model.summary()\n",
    "\n",
    "K = 1  # number of filters\n",
    "F = 4  # kernel size\n",
    "D_in = 1 # depth\n",
    "S = 4 # stride of the convolutions\n",
    "H_in = 98 # height of previous layer\n",
    "W_in = 98 # width of previous layer\n",
    "\n",
    "height = np.ceil(np.float(H_in - F + 1) / np.float(S))\n",
    "width = np.ceil(np.float(W_in - F + 1) / np.float(S))\n",
    "\n",
    "print(height)\n",
    "print(width)\n"
   ]
  },
  {
   "cell_type": "code",
   "execution_count": 45,
   "metadata": {},
   "outputs": [
    {
     "name": "stdout",
     "output_type": "stream",
     "text": [
      "_________________________________________________________________\n",
      "Layer (type)                 Output Shape              Param #   \n",
      "=================================================================\n",
      "conv2d_33 (Conv2D)           (None, 64, 64, 32)        896       \n",
      "=================================================================\n",
      "Total params: 896\n",
      "Trainable params: 896\n",
      "Non-trainable params: 0\n",
      "_________________________________________________________________\n",
      "64.0\n",
      "64.0\n"
     ]
    }
   ],
   "source": [
    "from keras.models import Sequential\n",
    "from keras.layers import Conv2D\n",
    "\n",
    "model = Sequential()\n",
    "model.add(Conv2D(filters=32, kernel_size=3, strides=2, padding='same', \n",
    "    activation='relu', input_shape=(128, 128, 3)))\n",
    "model.summary()\n",
    "\n",
    "K = 32  # number of filters\n",
    "F = 3  # kernel size\n",
    "D_in = 3 # depth\n",
    "S = 2 # stride of the convolutions\n",
    "H_in = 128 # height of previous layer\n",
    "W_in = 128 # width of previous layer\n",
    "\n",
    "height = np.ceil(np.float(H_in) / np.float(S))\n",
    "width = np.ceil(np.float(W_in) / np.float(S))\n",
    "\n",
    "print(height)\n",
    "print(width)\n"
   ]
  },
  {
   "cell_type": "code",
   "execution_count": 46,
   "metadata": {},
   "outputs": [
    {
     "name": "stdout",
     "output_type": "stream",
     "text": [
      "_________________________________________________________________\n",
      "Layer (type)                 Output Shape              Param #   \n",
      "=================================================================\n",
      "max_pooling2d_1 (MaxPooling2 (None, 50, 50, 15)        0         \n",
      "=================================================================\n",
      "Total params: 0\n",
      "Trainable params: 0\n",
      "Non-trainable params: 0\n",
      "_________________________________________________________________\n"
     ]
    }
   ],
   "source": [
    "# Pooling layers\n",
    "\n",
    "from keras.models import Sequential\n",
    "from keras.layers import MaxPooling2D\n",
    "\n",
    "model = Sequential()\n",
    "model.add(MaxPooling2D(pool_size=2, strides=2, input_shape=(100, 100, 15)))\n",
    "model.summary()\n",
    "\n"
   ]
  }
 ],
 "metadata": {
  "kernelspec": {
   "display_name": "Python [default]",
   "language": "python",
   "name": "python3"
  },
  "language_info": {
   "codemirror_mode": {
    "name": "ipython",
    "version": 3
   },
   "file_extension": ".py",
   "mimetype": "text/x-python",
   "name": "python",
   "nbconvert_exporter": "python",
   "pygments_lexer": "ipython3",
   "version": "3.6.3"
  }
 },
 "nbformat": 4,
 "nbformat_minor": 1
}
