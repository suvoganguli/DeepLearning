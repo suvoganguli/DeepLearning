{
 "cells": [
  {
   "cell_type": "markdown",
   "metadata": {},
   "source": [
    "# Anna KaRNNa\n",
    "\n",
    "In this notebook, I'll build a character-wise RNN trained on Anna Karenina, one of my all-time favorite books. It'll be able to generate new text based on the text from the book.\n",
    "\n",
    "This network is based off of Andrej Karpathy's [post on RNNs](http://karpathy.github.io/2015/05/21/rnn-effectiveness/) and [implementation in Torch](https://github.com/karpathy/char-rnn). Also, some information [here at r2rt](http://r2rt.com/recurrent-neural-networks-in-tensorflow-ii.html) and from [Sherjil Ozair](https://github.com/sherjilozair/char-rnn-tensorflow) on GitHub. Below is the general architecture of the character-wise RNN.\n",
    "\n",
    "<img src=\"assets/charseq.jpeg\" width=\"500\">"
   ]
  },
  {
   "cell_type": "code",
   "execution_count": 19,
   "metadata": {},
   "outputs": [],
   "source": [
    "import time\n",
    "from collections import namedtuple\n",
    "\n",
    "import numpy as np\n",
    "import tensorflow as tf"
   ]
  },
  {
   "cell_type": "markdown",
   "metadata": {},
   "source": [
    "First we'll load the text file and convert it into integers for our network to use. Here I'm creating a couple dictionaries to convert the characters to and from integers. Encoding the characters as integers makes it easier to use as input in the network."
   ]
  },
  {
   "cell_type": "code",
   "execution_count": 20,
   "metadata": {
    "collapsed": true
   },
   "outputs": [],
   "source": [
    "with open('anna_short.txt', 'r') as f:\n",
    "    text=f.read()\n",
    "vocab = sorted(set(text))\n",
    "vocab_to_int = {c: i for i, c in enumerate(vocab)}\n",
    "int_to_vocab = dict(enumerate(vocab))\n",
    "encoded = np.array([vocab_to_int[c] for c in text], dtype=np.int32)"
   ]
  },
  {
   "cell_type": "markdown",
   "metadata": {},
   "source": [
    "Let's check out the first 100 characters, make sure everything is peachy. According to the [American Book Review](http://americanbookreview.org/100bestlines.asp), this is the 6th best first line of a book ever."
   ]
  },
  {
   "cell_type": "code",
   "execution_count": 21,
   "metadata": {},
   "outputs": [
    {
     "data": {
      "text/plain": [
       "'Chapter 1\\r\\n\\r\\n\\r\\nHappy families are all alike; every unhappy family is unhappy in its own\\r\\nway.\\r\\n\\r\\nEve'"
      ]
     },
     "execution_count": 21,
     "metadata": {},
     "output_type": "execute_result"
    }
   ],
   "source": [
    "text[:100]"
   ]
  },
  {
   "cell_type": "markdown",
   "metadata": {},
   "source": [
    "And we can see the characters encoded as integers."
   ]
  },
  {
   "cell_type": "code",
   "execution_count": 22,
   "metadata": {},
   "outputs": [
    {
     "data": {
      "text/plain": [
       "array([17, 39, 32, 47, 51, 36, 49,  2, 11,  1,  0,  1,  0,  1,  0, 21, 32,\n",
       "       47, 47, 56,  2, 37, 32, 44, 40, 43, 40, 36, 50,  2, 32, 49, 36,  2,\n",
       "       32, 43, 43,  2, 32, 43, 40, 42, 36, 13,  2, 36, 53, 36, 49, 56,  2,\n",
       "       52, 45, 39, 32, 47, 47, 56,  2, 37, 32, 44, 40, 43, 56,  2, 40, 50,\n",
       "        2, 52, 45, 39, 32, 47, 47, 56,  2, 40, 45,  2, 40, 51, 50,  2, 46,\n",
       "       54, 45,  1,  0, 54, 32, 56, 10,  1,  0,  1,  0, 19, 53, 36],\n",
       "      dtype=int32)"
      ]
     },
     "execution_count": 22,
     "metadata": {},
     "output_type": "execute_result"
    }
   ],
   "source": [
    "encoded[:100]"
   ]
  },
  {
   "cell_type": "markdown",
   "metadata": {},
   "source": [
    "Since the network is working with individual characters, it's similar to a classification problem in which we are trying to predict the next character from the previous text.  Here's how many 'classes' our network has to pick from."
   ]
  },
  {
   "cell_type": "code",
   "execution_count": 23,
   "metadata": {},
   "outputs": [
    {
     "data": {
      "text/plain": [
       "57"
      ]
     },
     "execution_count": 23,
     "metadata": {},
     "output_type": "execute_result"
    }
   ],
   "source": [
    "len(vocab)"
   ]
  },
  {
   "cell_type": "markdown",
   "metadata": {},
   "source": [
    "## Making training mini-batches\n",
    "\n",
    "Here is where we'll make our mini-batches for training. Remember that we want our batches to be multiple sequences of some desired number of sequence steps. Considering a simple example, our batches would look like this:\n",
    "\n",
    "<img src=\"assets/sequence_batching@1x.png\" width=500px>\n",
    "\n",
    "\n",
    "<br>\n",
    "\n",
    "We start with our text encoded as integers in one long array in `encoded`. Let's create a function that will give us an iterator for our batches. I like using [generator functions](https://jeffknupp.com/blog/2013/04/07/improve-your-python-yield-and-generators-explained/) to do this. Then we can pass `encoded` into this function and get our batch generator.\n",
    "\n",
    "The first thing we need to do is discard some of the text so we only have completely full batches. Each batch contains $N \\times M$ characters, where $N$ is the batch size (the number of sequences) and $M$ is the number of steps. Then, to get the total number of batches, $K$, we can make from the array `arr`, you divide the length of `arr` by the number of characters per batch. Once you know the number of batches, you can get the total number of characters to keep from `arr`, $N * M * K$.\n",
    "\n",
    "After that, we need to split `arr` into $N$ sequences. You can do this using `arr.reshape(size)` where `size` is a tuple containing the dimensions sizes of the reshaped array. We know we want $N$ sequences (`batch_size` below), let's make that the size of the first dimension. For the second dimension, you can use `-1` as a placeholder in the size, it'll fill up the array with the appropriate data for you. After this, you should have an array that is $N \\times (M * K)$.\n",
    "\n",
    "Now that we have this array, we can iterate through it to get our batches. The idea is each batch is a $N \\times M$ window on the $N \\times (M * K)$ array. For each subsequent batch, the window moves over by `n_steps`. We also want to create both the input and target arrays. Remember that the targets are the inputs shifted over one character. \n",
    "\n",
    "The way I like to do this window is use `range` to take steps of size `n_steps` from $0$ to `arr.shape[1]`, the total number of steps in each sequence. That way, the integers you get from `range` always point to the start of a batch, and each window is `n_steps` wide."
   ]
  },
  {
   "cell_type": "code",
   "execution_count": 24,
   "metadata": {
    "collapsed": true
   },
   "outputs": [],
   "source": [
    "def get_batches(arr, batch_size, n_steps):\n",
    "    '''Create a generator that returns batches of size\n",
    "       batch_size x n_steps from arr.\n",
    "       \n",
    "       Arguments\n",
    "       ---------\n",
    "       arr: Array you want to make batches from\n",
    "       batch_size: Batch size, the number of sequences per batch\n",
    "       n_steps: Number of sequence steps per batch\n",
    "    '''\n",
    "    # Get the number of characters per batch and number of batches we can make\n",
    "    chars_per_batch = batch_size * n_steps\n",
    "    n_batches = len(arr)//chars_per_batch\n",
    "    \n",
    "    # Keep only enough characters to make full batches\n",
    "    arr = arr[:n_batches * chars_per_batch]\n",
    "    \n",
    "    # Reshape into batch_size rows\n",
    "    arr = arr.reshape((batch_size, -1))\n",
    "    \n",
    "    for n in range(0, arr.shape[1], n_steps):\n",
    "        # The features\n",
    "        x = arr[:, n:n+n_steps]\n",
    "        # The targets, shifted by one\n",
    "        y_temp = arr[:, n+1:n+n_steps+1]\n",
    "        \n",
    "        # For the very last batch, y will be one character short at the end of \n",
    "        # the sequences which breaks things. To get around this, I'll make an \n",
    "        # array of the appropriate size first, of all zeros, then add the targets.\n",
    "        # This will introduce a small artifact in the last batch, but it won't matter.\n",
    "        y = np.zeros(x.shape, dtype=x.dtype)\n",
    "        y[:,:y_temp.shape[1]] = y_temp\n",
    "        \n",
    "        yield x, y"
   ]
  },
  {
   "cell_type": "markdown",
   "metadata": {},
   "source": [
    "Now I'll make my data sets and we can check out what's going on here. Here I'm going to use a batch size of 10 and 50 sequence steps."
   ]
  },
  {
   "cell_type": "code",
   "execution_count": 25,
   "metadata": {
    "collapsed": true
   },
   "outputs": [],
   "source": [
    "batches = get_batches(encoded, 10, 50)\n",
    "x, y = next(batches)"
   ]
  },
  {
   "cell_type": "code",
   "execution_count": 26,
   "metadata": {},
   "outputs": [
    {
     "name": "stdout",
     "output_type": "stream",
     "text": [
      "('x\\n', array([[17, 39, 32, 47, 51, 36, 49,  2, 11,  1],\n",
      "       [45, 50, 34, 40, 46, 52, 50,  2, 46, 37],\n",
      "       [36, 35,  2, 46, 37, 37,  2, 51, 39, 36],\n",
      "       [ 2, 37, 32, 34, 36,  2, 40, 45,  2, 40],\n",
      "       [ 1,  0, 27, 51, 36, 47, 32, 45,  2, 15],\n",
      "       [ 2, 45, 40, 45, 36,  2, 56, 36, 32, 49],\n",
      "       [ 5, 51,  2, 37, 46, 49, 38, 40, 53, 36],\n",
      "       [39, 36, 49,  2, 40, 45,  2, 51, 39, 36],\n",
      "       [ 2, 32, 51,  2, 51, 39, 36,  2, 54, 32],\n",
      "       [32, 45,  2, 15, 49, 42, 32, 35, 56, 36]], dtype=int32))\n",
      "('\\ny\\n', array([[39, 32, 47, 51, 36, 49,  2, 11,  1,  0],\n",
      "       [50, 34, 40, 46, 52, 50,  2, 46, 37,  2],\n",
      "       [35,  2, 46, 37, 37,  2, 51, 39, 36,  2],\n",
      "       [37, 32, 34, 36,  2, 40, 45,  2, 40, 51],\n",
      "       [ 0, 27, 51, 36, 47, 32, 45,  2, 15, 49],\n",
      "       [45, 40, 45, 36,  2, 56, 36, 32, 49, 50],\n",
      "       [51,  2, 37, 46, 49, 38, 40, 53, 36,  2],\n",
      "       [36, 49,  2, 40, 45,  2, 51, 39, 36,  2],\n",
      "       [32, 51,  2, 51, 39, 36,  2, 54, 32, 56],\n",
      "       [45,  2, 15, 49, 42, 32, 35, 56, 36, 53]], dtype=int32))\n"
     ]
    }
   ],
   "source": [
    "print('x\\n', x[:10, :10])\n",
    "print('\\ny\\n', y[:10, :10])"
   ]
  },
  {
   "cell_type": "markdown",
   "metadata": {},
   "source": [
    "If you implemented `get_batches` correctly, the above output should look something like \n",
    "```\n",
    "x\n",
    " [[55 63 69 22  6 76 45  5 16 35]\n",
    " [ 5 69  1  5 12 52  6  5 56 52]\n",
    " [48 29 12 61 35 35  8 64 76 78]\n",
    " [12  5 24 39 45 29 12 56  5 63]\n",
    " [ 5 29  6  5 29 78 28  5 78 29]\n",
    " [ 5 13  6  5 36 69 78 35 52 12]\n",
    " [63 76 12  5 18 52  1 76  5 58]\n",
    " [34  5 73 39  6  5 12 52 36  5]\n",
    " [ 6  5 29 78 12 79  6 61  5 59]\n",
    " [ 5 78 69 29 24  5  6 52  5 63]]\n",
    "\n",
    "y\n",
    " [[63 69 22  6 76 45  5 16 35 35]\n",
    " [69  1  5 12 52  6  5 56 52 29]\n",
    " [29 12 61 35 35  8 64 76 78 28]\n",
    " [ 5 24 39 45 29 12 56  5 63 29]\n",
    " [29  6  5 29 78 28  5 78 29 45]\n",
    " [13  6  5 36 69 78 35 52 12 43]\n",
    " [76 12  5 18 52  1 76  5 58 52]\n",
    " [ 5 73 39  6  5 12 52 36  5 78]\n",
    " [ 5 29 78 12 79  6 61  5 59 63]\n",
    " [78 69 29 24  5  6 52  5 63 76]]\n",
    " ```\n",
    " although the exact numbers will be different. Check to make sure the data is shifted over one step for `y`."
   ]
  },
  {
   "cell_type": "markdown",
   "metadata": {},
   "source": [
    "## Building the model\n",
    "\n",
    "Below is where you'll build the network. We'll break it up into parts so it's easier to reason about each bit. Then we can connect them up into the whole network.\n",
    "\n",
    "<img src=\"assets/charRNN.png\" width=500px>\n",
    "\n",
    "\n",
    "### Inputs\n",
    "\n",
    "First off we'll create our input placeholders. As usual we need placeholders for the training data and the targets. We'll also create a placeholder for dropout layers called `keep_prob`."
   ]
  },
  {
   "cell_type": "code",
   "execution_count": 27,
   "metadata": {
    "collapsed": true
   },
   "outputs": [],
   "source": [
    "def build_inputs(batch_size, num_steps):\n",
    "    ''' Define placeholders for inputs, targets, and dropout \n",
    "    \n",
    "        Arguments\n",
    "        ---------\n",
    "        batch_size: Batch size, number of sequences per batch\n",
    "        num_steps: Number of sequence steps in a batch\n",
    "        \n",
    "    '''\n",
    "    # Declare placeholders we'll feed into the graph\n",
    "    inputs = tf.placeholder(tf.int32, [batch_size, num_steps], name='inputs')\n",
    "    targets = tf.placeholder(tf.int32, [batch_size, num_steps], name='targets')\n",
    "    \n",
    "    # Keep probability placeholder for drop out layers\n",
    "    keep_prob = tf.placeholder(tf.float32, name='keep_prob')\n",
    "    \n",
    "    return inputs, targets, keep_prob"
   ]
  },
  {
   "cell_type": "markdown",
   "metadata": {},
   "source": [
    "### LSTM Cell\n",
    "\n",
    "Here we will create the LSTM cell we'll use in the hidden layer. We'll use this cell as a building block for the RNN. So we aren't actually defining the RNN here, just the type of cell we'll use in the hidden layer.\n",
    "\n",
    "We first create a basic LSTM cell with\n",
    "\n",
    "```python\n",
    "lstm = tf.contrib.rnn.BasicLSTMCell(num_units)\n",
    "```\n",
    "\n",
    "where `num_units` is the number of units in the hidden layers in the cell. Then we can add dropout by wrapping it with \n",
    "\n",
    "```python\n",
    "tf.contrib.rnn.DropoutWrapper(lstm, output_keep_prob=keep_prob)\n",
    "```\n",
    "You pass in a cell and it will automatically add dropout to the inputs or outputs. Finally, we can stack up the LSTM cells into layers with [`tf.contrib.rnn.MultiRNNCell`](https://www.tensorflow.org/versions/r1.0/api_docs/python/tf/contrib/rnn/MultiRNNCell). With this, you pass in a list of cells and it will send the output of one cell into the next cell. Previously with TensorFlow 1.0, you could do this\n",
    "\n",
    "```python\n",
    "tf.contrib.rnn.MultiRNNCell([cell]*num_layers)\n",
    "```\n",
    "\n",
    "This might look a little weird if you know Python well because this will create a list of the same `cell` object. However, TensorFlow 1.0 will create different weight matrices for all `cell` objects. But, starting with TensorFlow 1.1 you actually need to create new cell objects in the list. To get it to work in TensorFlow 1.1, it should look like\n",
    "\n",
    "```python\n",
    "def build_cell(num_units, keep_prob):\n",
    "    lstm = tf.contrib.rnn.BasicLSTMCell(num_units)\n",
    "    drop = tf.contrib.rnn.DropoutWrapper(lstm, output_keep_prob=keep_prob)\n",
    "    \n",
    "    return drop\n",
    "    \n",
    "tf.contrib.rnn.MultiRNNCell([build_cell(num_units, keep_prob) for _ in range(num_layers)])\n",
    "```\n",
    "\n",
    "Even though this is actually multiple LSTM cells stacked on each other, you can treat the multiple layers as one cell.\n",
    "\n",
    "We also need to create an initial cell state of all zeros. This can be done like so\n",
    "\n",
    "```python\n",
    "initial_state = cell.zero_state(batch_size, tf.float32)\n",
    "```\n",
    "\n",
    "Below, we implement the `build_lstm` function to create these LSTM cells and the initial state."
   ]
  },
  {
   "cell_type": "code",
   "execution_count": 28,
   "metadata": {
    "collapsed": true
   },
   "outputs": [],
   "source": [
    "def build_lstm(lstm_size, num_layers, batch_size, keep_prob):\n",
    "    ''' Build LSTM cell.\n",
    "    \n",
    "        Arguments\n",
    "        ---------\n",
    "        keep_prob: Scalar tensor (tf.placeholder) for the dropout keep probability\n",
    "        lstm_size: Size of the hidden layers in the LSTM cells\n",
    "        num_layers: Number of LSTM layers\n",
    "        batch_size: Batch size\n",
    "\n",
    "    '''\n",
    "    ### Build the LSTM Cell\n",
    "    \n",
    "    def build_cell(lstm_size, keep_prob):\n",
    "        # Use a basic LSTM cell\n",
    "        lstm = tf.contrib.rnn.BasicLSTMCell(lstm_size)\n",
    "        \n",
    "        # Add dropout to the cell\n",
    "        drop = tf.contrib.rnn.DropoutWrapper(lstm, output_keep_prob=keep_prob)\n",
    "        return drop\n",
    "    \n",
    "    \n",
    "    # Stack up multiple LSTM layers, for deep learning\n",
    "    cell = tf.contrib.rnn.MultiRNNCell([build_cell(lstm_size, keep_prob) for _ in range(num_layers)])\n",
    "    initial_state = cell.zero_state(batch_size, tf.float32)\n",
    "    \n",
    "    return cell, initial_state"
   ]
  },
  {
   "cell_type": "markdown",
   "metadata": {},
   "source": [
    "### RNN Output\n",
    "\n",
    "Here we'll create the output layer. We need to connect the output of the RNN cells to a full connected layer with a softmax output. The softmax output gives us a probability distribution we can use to predict the next character.\n",
    "\n",
    "If our input has batch size $N$, number of steps $M$, and the hidden layer has $L$ hidden units, then the output is a 3D tensor with size $N \\times M \\times L$. The output of each LSTM cell has size $L$, we have $M$ of them, one for each sequence step, and we have $N$ sequences. So the total size is $N \\times M \\times L$.\n",
    "\n",
    "We are using the same fully connected layer, the same weights, for each of the outputs. Then, to make things easier, we should reshape the outputs into a 2D tensor with shape $(M * N) \\times L$. That is, one row for each sequence and step, where the values of each row are the output from the LSTM cells.\n",
    "\n",
    "One we have the outputs reshaped, we can do the matrix multiplication with the weights. We need to wrap the weight and bias variables in a variable scope with `tf.variable_scope(scope_name)` because there are weights being created in the LSTM cells. TensorFlow will throw an error if the weights created here have the same names as the weights created in the LSTM cells, which they will be default. To avoid this, we wrap the variables in a variable scope so we can give them unique names."
   ]
  },
  {
   "cell_type": "code",
   "execution_count": 29,
   "metadata": {
    "collapsed": true
   },
   "outputs": [],
   "source": [
    "def build_output(lstm_output, in_size, out_size):\n",
    "    ''' Build a softmax layer, return the softmax output and logits.\n",
    "    \n",
    "        Arguments\n",
    "        ---------\n",
    "        \n",
    "        x: Input tensor\n",
    "        in_size: Size of the input tensor, for example, size of the LSTM cells\n",
    "        out_size: Size of this softmax layer\n",
    "    \n",
    "    '''\n",
    "\n",
    "    # Reshape output so it's a bunch of rows, one row for each step for each sequence.\n",
    "    # That is, the shape should be batch_size*num_steps rows by lstm_size columns\n",
    "    seq_output = tf.concat(lstm_output, axis=1)\n",
    "    x = tf.reshape(seq_output, [-1, in_size])\n",
    "    \n",
    "    # Connect the RNN outputs to a softmax layer\n",
    "    with tf.variable_scope('softmax'):\n",
    "        softmax_w = tf.Variable(tf.truncated_normal((in_size, out_size), stddev=0.1))\n",
    "        softmax_b = tf.Variable(tf.zeros(out_size))\n",
    "    \n",
    "    # Since output is a bunch of rows of RNN cell outputs, logits will be a bunch\n",
    "    # of rows of logit outputs, one for each step and sequence\n",
    "    logits = tf.matmul(x, softmax_w) + softmax_b\n",
    "    \n",
    "    # Use softmax to get the probabilities for predicted characters\n",
    "    out = tf.nn.softmax(logits, name='predictions')\n",
    "    \n",
    "    return out, logits"
   ]
  },
  {
   "cell_type": "markdown",
   "metadata": {},
   "source": [
    "### Training loss\n",
    "\n",
    "Next up is the training loss. We get the logits and targets and calculate the softmax cross-entropy loss. First we need to one-hot encode the targets, we're getting them as encoded characters. Then, reshape the one-hot targets so it's a 2D tensor with size $(M*N) \\times C$ where $C$ is the number of classes/characters we have. Remember that we reshaped the LSTM outputs and ran them through a fully connected layer with $C$ units. So our logits will also have size $(M*N) \\times C$.\n",
    "\n",
    "Then we run the logits and targets through `tf.nn.softmax_cross_entropy_with_logits` and find the mean to get the loss."
   ]
  },
  {
   "cell_type": "code",
   "execution_count": 30,
   "metadata": {
    "collapsed": true
   },
   "outputs": [],
   "source": [
    "def build_loss(logits, targets, lstm_size, num_classes):\n",
    "    ''' Calculate the loss from the logits and the targets.\n",
    "    \n",
    "        Arguments\n",
    "        ---------\n",
    "        logits: Logits from final fully connected layer\n",
    "        targets: Targets for supervised learning\n",
    "        lstm_size: Number of LSTM hidden units\n",
    "        num_classes: Number of classes in targets\n",
    "        \n",
    "    '''\n",
    "    \n",
    "    # One-hot encode targets and reshape to match logits, one row per batch_size per step\n",
    "    y_one_hot = tf.one_hot(targets, num_classes)\n",
    "    y_reshaped = tf.reshape(y_one_hot, logits.get_shape())\n",
    "    \n",
    "    # Softmax cross entropy loss\n",
    "    loss = tf.nn.softmax_cross_entropy_with_logits(logits=logits, labels=y_reshaped)\n",
    "    loss = tf.reduce_mean(loss)\n",
    "    return loss"
   ]
  },
  {
   "cell_type": "markdown",
   "metadata": {},
   "source": [
    "### Optimizer\n",
    "\n",
    "Here we build the optimizer. Normal RNNs have have issues gradients exploding and disappearing. LSTMs fix the disappearance problem, but the gradients can still grow without bound. To fix this, we can clip the gradients above some threshold. That is, if a gradient is larger than that threshold, we set it to the threshold. This will ensure the gradients never grow overly large. Then we use an AdamOptimizer for the learning step."
   ]
  },
  {
   "cell_type": "code",
   "execution_count": 31,
   "metadata": {
    "collapsed": true
   },
   "outputs": [],
   "source": [
    "def build_optimizer(loss, learning_rate, grad_clip):\n",
    "    ''' Build optmizer for training, using gradient clipping.\n",
    "    \n",
    "        Arguments:\n",
    "        loss: Network loss\n",
    "        learning_rate: Learning rate for optimizer\n",
    "    \n",
    "    '''\n",
    "    \n",
    "    # Optimizer for training, using gradient clipping to control exploding gradients\n",
    "    tvars = tf.trainable_variables()\n",
    "    grads, _ = tf.clip_by_global_norm(tf.gradients(loss, tvars), grad_clip)\n",
    "    train_op = tf.train.AdamOptimizer(learning_rate)\n",
    "    optimizer = train_op.apply_gradients(zip(grads, tvars))\n",
    "    \n",
    "    return optimizer"
   ]
  },
  {
   "cell_type": "markdown",
   "metadata": {},
   "source": [
    "### Build the network\n",
    "\n",
    "Now we can put all the pieces together and build a class for the network. To actually run data through the LSTM cells, we will use [`tf.nn.dynamic_rnn`](https://www.tensorflow.org/versions/r1.0/api_docs/python/tf/nn/dynamic_rnn). This function will pass the hidden and cell states across LSTM cells appropriately for us. It returns the outputs for each LSTM cell at each step for each sequence in the mini-batch. It also gives us the final LSTM state. We want to save this state as `final_state` so we can pass it to the first LSTM cell in the the next mini-batch run. For `tf.nn.dynamic_rnn`, we pass in the cell and initial state we get from `build_lstm`, as well as our input sequences. Also, we need to one-hot encode the inputs before going into the RNN. "
   ]
  },
  {
   "cell_type": "code",
   "execution_count": 32,
   "metadata": {
    "collapsed": true
   },
   "outputs": [],
   "source": [
    "class CharRNN:\n",
    "    \n",
    "    def __init__(self, num_classes, batch_size=64, num_steps=50, \n",
    "                       lstm_size=128, num_layers=2, learning_rate=0.001, \n",
    "                       grad_clip=5, sampling=False):\n",
    "    \n",
    "        # When we're using this network for sampling later, we'll be passing in\n",
    "        # one character at a time, so providing an option for that\n",
    "        if sampling == True:\n",
    "            batch_size, num_steps = 1, 1\n",
    "        else:\n",
    "            batch_size, num_steps = batch_size, num_steps\n",
    "\n",
    "        tf.reset_default_graph()\n",
    "        \n",
    "        # Build the input placeholder tensors\n",
    "        self.inputs, self.targets, self.keep_prob = build_inputs(batch_size, num_steps)\n",
    "\n",
    "        # Build the LSTM cell\n",
    "        cell, self.initial_state = build_lstm(lstm_size, num_layers, batch_size, self.keep_prob)\n",
    "\n",
    "        ### Run the data through the RNN layers\n",
    "        # First, one-hot encode the input tokens\n",
    "        x_one_hot = tf.one_hot(self.inputs, num_classes)\n",
    "        \n",
    "        # Run each sequence step through the RNN and collect the outputs\n",
    "        outputs, state = tf.nn.dynamic_rnn(cell, x_one_hot, initial_state=self.initial_state)\n",
    "        self.final_state = state\n",
    "        \n",
    "        # Get softmax predictions and logits\n",
    "        self.prediction, self.logits = build_output(outputs, lstm_size, num_classes)\n",
    "        \n",
    "        # Loss and optimizer (with gradient clipping)\n",
    "        self.loss = build_loss(self.logits, self.targets, lstm_size, num_classes)\n",
    "        self.optimizer = build_optimizer(self.loss, learning_rate, grad_clip)"
   ]
  },
  {
   "cell_type": "markdown",
   "metadata": {},
   "source": [
    "## Hyperparameters\n",
    "\n",
    "Here I'm defining the hyperparameters for the network. \n",
    "\n",
    "* `batch_size` - Number of sequences running through the network in one pass.\n",
    "* `num_steps` - Number of characters in the sequence the network is trained on. Larger is better typically, the network will learn more long range dependencies. But it takes longer to train. 100 is typically a good number here.\n",
    "* `lstm_size` - The number of units in the hidden layers.\n",
    "* `num_layers` - Number of hidden LSTM layers to use\n",
    "* `learning_rate` - Learning rate for training\n",
    "* `keep_prob` - The dropout keep probability when training. If you're network is overfitting, try decreasing this.\n",
    "\n",
    "Here's some good advice from Andrej Karpathy on training the network. I'm going to copy it in here for your benefit, but also link to [where it originally came from](https://github.com/karpathy/char-rnn#tips-and-tricks).\n",
    "\n",
    "> ## Tips and Tricks\n",
    "\n",
    ">### Monitoring Validation Loss vs. Training Loss\n",
    ">If you're somewhat new to Machine Learning or Neural Networks it can take a bit of expertise to get good models. The most important quantity to keep track of is the difference between your training loss (printed during training) and the validation loss (printed once in a while when the RNN is run on the validation data (by default every 1000 iterations)). In particular:\n",
    "\n",
    "> - If your training loss is much lower than validation loss then this means the network might be **overfitting**. Solutions to this are to decrease your network size, or to increase dropout. For example you could try dropout of 0.5 and so on.\n",
    "> - If your training/validation loss are about equal then your model is **underfitting**. Increase the size of your model (either number of layers or the raw number of neurons per layer)\n",
    "\n",
    "> ### Approximate number of parameters\n",
    "\n",
    "> The two most important parameters that control the model are `lstm_size` and `num_layers`. I would advise that you always use `num_layers` of either 2/3. The `lstm_size` can be adjusted based on how much data you have. The two important quantities to keep track of here are:\n",
    "\n",
    "> - The number of parameters in your model. This is printed when you start training.\n",
    "> - The size of your dataset. 1MB file is approximately 1 million characters.\n",
    "\n",
    ">These two should be about the same order of magnitude. It's a little tricky to tell. Here are some examples:\n",
    "\n",
    "> - I have a 100MB dataset and I'm using the default parameter settings (which currently print 150K parameters). My data size is significantly larger (100 mil >> 0.15 mil), so I expect to heavily underfit. I am thinking I can comfortably afford to make `lstm_size` larger.\n",
    "> - I have a 10MB dataset and running a 10 million parameter model. I'm slightly nervous and I'm carefully monitoring my validation loss. If it's larger than my training loss then I may want to try to increase dropout a bit and see if that helps the validation loss.\n",
    "\n",
    "> ### Best models strategy\n",
    "\n",
    ">The winning strategy to obtaining very good models (if you have the compute time) is to always err on making the network larger (as large as you're willing to wait for it to compute) and then try different dropout values (between 0,1). Whatever model has the best validation performance (the loss, written in the checkpoint filename, low is good) is the one you should use in the end.\n",
    "\n",
    ">It is very common in deep learning to run many different models with many different hyperparameter settings, and in the end take whatever checkpoint gave the best validation performance.\n",
    "\n",
    ">By the way, the size of your training and validation splits are also parameters. Make sure you have a decent amount of data in your validation set or otherwise the validation performance will be noisy and not very informative.\n"
   ]
  },
  {
   "cell_type": "code",
   "execution_count": 33,
   "metadata": {
    "collapsed": true
   },
   "outputs": [],
   "source": [
    "batch_size = 100        # Sequences per batch\n",
    "num_steps = 100         # Number of sequence steps per batch\n",
    "lstm_size = 512         # Size of hidden layers in LSTMs\n",
    "num_layers = 2          # Number of LSTM layers\n",
    "learning_rate = 0.001   # Learning rate\n",
    "keep_prob = 0.5         # Dropout keep probability"
   ]
  },
  {
   "cell_type": "code",
   "execution_count": 49,
   "metadata": {},
   "outputs": [
    {
     "name": "stdout",
     "output_type": "stream",
     "text": [
      "5552\n",
      "5\n",
      "20\n",
      "55\n"
     ]
    }
   ],
   "source": [
    "batch_size = 5        # Sequences per batch\n",
    "num_steps = 20         # Number of sequence steps per batch\n",
    "lstm_size = 128         # Size of hidden layers in LSTMs\n",
    "num_layers = 2          # Number of LSTM layers\n",
    "learning_rate = 0.0001   # Learning rate\n",
    "keep_prob = 0.5         # Dropout keep probability\n",
    "\n",
    "print(len(encoded))\n",
    "print(batch_size)\n",
    "print(num_steps)\n",
    "\n",
    "n_batches = len(encoded)/(batch_size*num_steps)\n",
    "print(n_batches)"
   ]
  },
  {
   "cell_type": "markdown",
   "metadata": {},
   "source": [
    "## Time for training\n",
    "\n",
    "This is typical training code, passing inputs and targets into the network, then running the optimizer. Here we also get back the final LSTM state for the mini-batch. Then, we pass that state back into the network so the next batch can continue the state from the previous batch. And every so often (set by `save_every_n`) I save a checkpoint.\n",
    "\n",
    "Here I'm saving checkpoints with the format\n",
    "\n",
    "`i{iteration number}_l{# hidden layer units}.ckpt`"
   ]
  },
  {
   "cell_type": "code",
   "execution_count": 50,
   "metadata": {
    "scrolled": true
   },
   "outputs": [
    {
     "name": "stdout",
     "output_type": "stream",
     "text": [
      "('Epoch: 4/1000... ', 'Training Step: 200... ', 'Training loss: 3.3442... ', '0.0116 sec/batch')\n",
      "('Epoch: 8/1000... ', 'Training Step: 400... ', 'Training loss: 3.0236... ', '0.0120 sec/batch')\n",
      "('Epoch: 11/1000... ', 'Training Step: 600... ', 'Training loss: 3.0663... ', '0.0117 sec/batch')\n",
      "('Epoch: 15/1000... ', 'Training Step: 800... ', 'Training loss: 3.2267... ', '0.0118 sec/batch')\n",
      "('Epoch: 19/1000... ', 'Training Step: 1000... ', 'Training loss: 3.1724... ', '0.0117 sec/batch')\n",
      "('Epoch: 22/1000... ', 'Training Step: 1200... ', 'Training loss: 3.0149... ', '0.0122 sec/batch')\n",
      "('Epoch: 26/1000... ', 'Training Step: 1400... ', 'Training loss: 3.1442... ', '0.0118 sec/batch')\n",
      "('Epoch: 30/1000... ', 'Training Step: 1600... ', 'Training loss: 3.2074... ', '0.0119 sec/batch')\n",
      "('Epoch: 33/1000... ', 'Training Step: 1800... ', 'Training loss: 3.1412... ', '0.0119 sec/batch')\n",
      "('Epoch: 37/1000... ', 'Training Step: 2000... ', 'Training loss: 3.1777... ', '0.0122 sec/batch')\n",
      "('Epoch: 40/1000... ', 'Training Step: 2200... ', 'Training loss: 3.2541... ', '0.0118 sec/batch')\n",
      "('Epoch: 44/1000... ', 'Training Step: 2400... ', 'Training loss: 3.1540... ', '0.0117 sec/batch')\n",
      "('Epoch: 48/1000... ', 'Training Step: 2600... ', 'Training loss: 2.8446... ', '0.0121 sec/batch')\n",
      "('Epoch: 51/1000... ', 'Training Step: 2800... ', 'Training loss: 2.9139... ', '0.0119 sec/batch')\n",
      "('Epoch: 55/1000... ', 'Training Step: 3000... ', 'Training loss: 2.9963... ', '0.0117 sec/batch')\n",
      "('Epoch: 59/1000... ', 'Training Step: 3200... ', 'Training loss: 2.9672... ', '0.0117 sec/batch')\n",
      "('Epoch: 62/1000... ', 'Training Step: 3400... ', 'Training loss: 2.8179... ', '0.0120 sec/batch')\n",
      "('Epoch: 66/1000... ', 'Training Step: 3600... ', 'Training loss: 2.8683... ', '0.0120 sec/batch')\n",
      "('Epoch: 70/1000... ', 'Training Step: 3800... ', 'Training loss: 2.9161... ', '0.0118 sec/batch')\n",
      "('Epoch: 73/1000... ', 'Training Step: 4000... ', 'Training loss: 2.8073... ', '0.0118 sec/batch')\n",
      "('Epoch: 77/1000... ', 'Training Step: 4200... ', 'Training loss: 2.7067... ', '0.0119 sec/batch')\n",
      "('Epoch: 80/1000... ', 'Training Step: 4400... ', 'Training loss: 2.8721... ', '0.0118 sec/batch')\n",
      "('Epoch: 84/1000... ', 'Training Step: 4600... ', 'Training loss: 2.7982... ', '0.0121 sec/batch')\n",
      "('Epoch: 88/1000... ', 'Training Step: 4800... ', 'Training loss: 2.5415... ', '0.0119 sec/batch')\n",
      "('Epoch: 91/1000... ', 'Training Step: 5000... ', 'Training loss: 2.5859... ', '0.0116 sec/batch')\n",
      "('Epoch: 95/1000... ', 'Training Step: 5200... ', 'Training loss: 2.8058... ', '0.0122 sec/batch')\n",
      "('Epoch: 99/1000... ', 'Training Step: 5400... ', 'Training loss: 2.6592... ', '0.0121 sec/batch')\n",
      "('Epoch: 102/1000... ', 'Training Step: 5600... ', 'Training loss: 2.6266... ', '0.0119 sec/batch')\n",
      "('Epoch: 106/1000... ', 'Training Step: 5800... ', 'Training loss: 2.6495... ', '0.0123 sec/batch')\n",
      "('Epoch: 110/1000... ', 'Training Step: 6000... ', 'Training loss: 2.5801... ', '0.0119 sec/batch')\n",
      "('Epoch: 113/1000... ', 'Training Step: 6200... ', 'Training loss: 2.6254... ', '0.0119 sec/batch')\n",
      "('Epoch: 117/1000... ', 'Training Step: 6400... ', 'Training loss: 2.6361... ', '0.0118 sec/batch')\n",
      "('Epoch: 120/1000... ', 'Training Step: 6600... ', 'Training loss: 2.5934... ', '0.0118 sec/batch')\n",
      "('Epoch: 124/1000... ', 'Training Step: 6800... ', 'Training loss: 2.4252... ', '0.0124 sec/batch')\n",
      "('Epoch: 128/1000... ', 'Training Step: 7000... ', 'Training loss: 2.3964... ', '0.0121 sec/batch')\n",
      "('Epoch: 131/1000... ', 'Training Step: 7200... ', 'Training loss: 2.3889... ', '0.0118 sec/batch')\n",
      "('Epoch: 135/1000... ', 'Training Step: 7400... ', 'Training loss: 2.6005... ', '0.0118 sec/batch')\n",
      "('Epoch: 139/1000... ', 'Training Step: 7600... ', 'Training loss: 2.4273... ', '0.0116 sec/batch')\n",
      "('Epoch: 142/1000... ', 'Training Step: 7800... ', 'Training loss: 2.3995... ', '0.0116 sec/batch')\n",
      "('Epoch: 146/1000... ', 'Training Step: 8000... ', 'Training loss: 2.4171... ', '0.0120 sec/batch')\n",
      "('Epoch: 150/1000... ', 'Training Step: 8200... ', 'Training loss: 2.4284... ', '0.0120 sec/batch')\n",
      "('Epoch: 153/1000... ', 'Training Step: 8400... ', 'Training loss: 2.4661... ', '0.0120 sec/batch')\n",
      "('Epoch: 157/1000... ', 'Training Step: 8600... ', 'Training loss: 2.4225... ', '0.0117 sec/batch')\n",
      "('Epoch: 160/1000... ', 'Training Step: 8800... ', 'Training loss: 2.4224... ', '0.0120 sec/batch')\n",
      "('Epoch: 164/1000... ', 'Training Step: 9000... ', 'Training loss: 2.3574... ', '0.0120 sec/batch')\n",
      "('Epoch: 168/1000... ', 'Training Step: 9200... ', 'Training loss: 2.2201... ', '0.0120 sec/batch')\n",
      "('Epoch: 171/1000... ', 'Training Step: 9400... ', 'Training loss: 2.1524... ', '0.0117 sec/batch')\n",
      "('Epoch: 175/1000... ', 'Training Step: 9600... ', 'Training loss: 2.4093... ', '0.0121 sec/batch')\n",
      "('Epoch: 179/1000... ', 'Training Step: 9800... ', 'Training loss: 2.3319... ', '0.0116 sec/batch')\n",
      "('Epoch: 182/1000... ', 'Training Step: 10000... ', 'Training loss: 2.3011... ', '0.0119 sec/batch')\n",
      "('Epoch: 186/1000... ', 'Training Step: 10200... ', 'Training loss: 2.3104... ', '0.0121 sec/batch')\n",
      "('Epoch: 190/1000... ', 'Training Step: 10400... ', 'Training loss: 2.2960... ', '0.0117 sec/batch')\n",
      "('Epoch: 193/1000... ', 'Training Step: 10600... ', 'Training loss: 2.2987... ', '0.0119 sec/batch')\n",
      "('Epoch: 197/1000... ', 'Training Step: 10800... ', 'Training loss: 2.1832... ', '0.0120 sec/batch')\n",
      "('Epoch: 200/1000... ', 'Training Step: 11000... ', 'Training loss: 2.1832... ', '0.0115 sec/batch')\n",
      "('Epoch: 204/1000... ', 'Training Step: 11200... ', 'Training loss: 2.1226... ', '0.0218 sec/batch')\n",
      "('Epoch: 208/1000... ', 'Training Step: 11400... ', 'Training loss: 2.1325... ', '0.0121 sec/batch')\n",
      "('Epoch: 211/1000... ', 'Training Step: 11600... ', 'Training loss: 2.1159... ', '0.0124 sec/batch')\n",
      "('Epoch: 215/1000... ', 'Training Step: 11800... ', 'Training loss: 2.3416... ', '0.0117 sec/batch')\n",
      "('Epoch: 219/1000... ', 'Training Step: 12000... ', 'Training loss: 2.2358... ', '0.0119 sec/batch')\n",
      "('Epoch: 222/1000... ', 'Training Step: 12200... ', 'Training loss: 2.1903... ', '0.0122 sec/batch')\n",
      "('Epoch: 226/1000... ', 'Training Step: 12400... ', 'Training loss: 2.4010... ', '0.0118 sec/batch')\n",
      "('Epoch: 230/1000... ', 'Training Step: 12600... ', 'Training loss: 2.2009... ', '0.0118 sec/batch')\n",
      "('Epoch: 233/1000... ', 'Training Step: 12800... ', 'Training loss: 2.1680... ', '0.0118 sec/batch')\n",
      "('Epoch: 237/1000... ', 'Training Step: 13000... ', 'Training loss: 2.1986... ', '0.0118 sec/batch')\n",
      "('Epoch: 240/1000... ', 'Training Step: 13200... ', 'Training loss: 2.1413... ', '0.0126 sec/batch')\n",
      "('Epoch: 244/1000... ', 'Training Step: 13400... ', 'Training loss: 2.0239... ', '0.0118 sec/batch')\n",
      "('Epoch: 248/1000... ', 'Training Step: 13600... ', 'Training loss: 2.0378... ', '0.0122 sec/batch')\n",
      "('Epoch: 251/1000... ', 'Training Step: 13800... ', 'Training loss: 1.8654... ', '0.0119 sec/batch')\n",
      "('Epoch: 255/1000... ', 'Training Step: 14000... ', 'Training loss: 2.1772... ', '0.0122 sec/batch')\n",
      "('Epoch: 259/1000... ', 'Training Step: 14200... ', 'Training loss: 2.1007... ', '0.0118 sec/batch')\n",
      "('Epoch: 262/1000... ', 'Training Step: 14400... ', 'Training loss: 2.0787... ', '0.0119 sec/batch')\n",
      "('Epoch: 266/1000... ', 'Training Step: 14600... ', 'Training loss: 2.0426... ', '0.0119 sec/batch')\n",
      "('Epoch: 270/1000... ', 'Training Step: 14800... ', 'Training loss: 2.0948... ', '0.0121 sec/batch')\n",
      "('Epoch: 273/1000... ', 'Training Step: 15000... ', 'Training loss: 2.1444... ', '0.0121 sec/batch')\n",
      "('Epoch: 277/1000... ', 'Training Step: 15200... ', 'Training loss: 2.1147... ', '0.0116 sec/batch')\n",
      "('Epoch: 280/1000... ', 'Training Step: 15400... ', 'Training loss: 2.0261... ', '0.0118 sec/batch')\n",
      "('Epoch: 284/1000... ', 'Training Step: 15600... ', 'Training loss: 1.9689... ', '0.0121 sec/batch')\n",
      "('Epoch: 288/1000... ', 'Training Step: 15800... ', 'Training loss: 2.0416... ', '0.0118 sec/batch')\n",
      "('Epoch: 291/1000... ', 'Training Step: 16000... ', 'Training loss: 1.7831... ', '0.0122 sec/batch')\n",
      "('Epoch: 295/1000... ', 'Training Step: 16200... ', 'Training loss: 2.2396... ', '0.0122 sec/batch')\n",
      "('Epoch: 299/1000... ', 'Training Step: 16400... ', 'Training loss: 2.0977... ', '0.0120 sec/batch')\n"
     ]
    },
    {
     "name": "stdout",
     "output_type": "stream",
     "text": [
      "('Epoch: 302/1000... ', 'Training Step: 16600... ', 'Training loss: 1.8947... ', '0.0119 sec/batch')\n",
      "('Epoch: 306/1000... ', 'Training Step: 16800... ', 'Training loss: 2.0896... ', '0.0118 sec/batch')\n",
      "('Epoch: 310/1000... ', 'Training Step: 17000... ', 'Training loss: 2.0954... ', '0.0121 sec/batch')\n",
      "('Epoch: 313/1000... ', 'Training Step: 17200... ', 'Training loss: 2.0640... ', '0.0120 sec/batch')\n",
      "('Epoch: 317/1000... ', 'Training Step: 17400... ', 'Training loss: 2.1296... ', '0.0118 sec/batch')\n",
      "('Epoch: 320/1000... ', 'Training Step: 17600... ', 'Training loss: 2.1835... ', '0.0119 sec/batch')\n",
      "('Epoch: 324/1000... ', 'Training Step: 17800... ', 'Training loss: 1.8836... ', '0.0119 sec/batch')\n",
      "('Epoch: 328/1000... ', 'Training Step: 18000... ', 'Training loss: 1.8982... ', '0.0121 sec/batch')\n",
      "('Epoch: 331/1000... ', 'Training Step: 18200... ', 'Training loss: 1.7069... ', '0.0117 sec/batch')\n",
      "('Epoch: 335/1000... ', 'Training Step: 18400... ', 'Training loss: 2.1938... ', '0.0117 sec/batch')\n",
      "('Epoch: 339/1000... ', 'Training Step: 18600... ', 'Training loss: 1.8770... ', '0.0119 sec/batch')\n",
      "('Epoch: 342/1000... ', 'Training Step: 18800... ', 'Training loss: 1.8666... ', '0.0119 sec/batch')\n",
      "('Epoch: 346/1000... ', 'Training Step: 19000... ', 'Training loss: 2.0922... ', '0.0120 sec/batch')\n",
      "('Epoch: 350/1000... ', 'Training Step: 19200... ', 'Training loss: 1.9724... ', '0.0117 sec/batch')\n",
      "('Epoch: 353/1000... ', 'Training Step: 19400... ', 'Training loss: 1.8679... ', '0.0116 sec/batch')\n",
      "('Epoch: 357/1000... ', 'Training Step: 19600... ', 'Training loss: 1.8954... ', '0.0121 sec/batch')\n",
      "('Epoch: 360/1000... ', 'Training Step: 19800... ', 'Training loss: 1.8509... ', '0.0117 sec/batch')\n",
      "('Epoch: 364/1000... ', 'Training Step: 20000... ', 'Training loss: 1.7502... ', '0.0116 sec/batch')\n",
      "('Epoch: 368/1000... ', 'Training Step: 20200... ', 'Training loss: 1.8378... ', '0.0118 sec/batch')\n",
      "('Epoch: 371/1000... ', 'Training Step: 20400... ', 'Training loss: 1.6232... ', '0.0119 sec/batch')\n",
      "('Epoch: 375/1000... ', 'Training Step: 20600... ', 'Training loss: 2.1180... ', '0.0119 sec/batch')\n",
      "('Epoch: 379/1000... ', 'Training Step: 20800... ', 'Training loss: 1.9164... ', '0.0120 sec/batch')\n",
      "('Epoch: 382/1000... ', 'Training Step: 21000... ', 'Training loss: 1.7242... ', '0.0120 sec/batch')\n",
      "('Epoch: 386/1000... ', 'Training Step: 21200... ', 'Training loss: 1.9990... ', '0.0121 sec/batch')\n",
      "('Epoch: 390/1000... ', 'Training Step: 21400... ', 'Training loss: 1.8730... ', '0.0119 sec/batch')\n",
      "('Epoch: 393/1000... ', 'Training Step: 21600... ', 'Training loss: 1.8997... ', '0.0120 sec/batch')\n",
      "('Epoch: 397/1000... ', 'Training Step: 21800... ', 'Training loss: 1.9046... ', '0.0125 sec/batch')\n",
      "('Epoch: 400/1000... ', 'Training Step: 22000... ', 'Training loss: 1.8194... ', '0.0121 sec/batch')\n",
      "('Epoch: 404/1000... ', 'Training Step: 22200... ', 'Training loss: 1.7575... ', '0.0124 sec/batch')\n",
      "('Epoch: 408/1000... ', 'Training Step: 22400... ', 'Training loss: 1.8026... ', '0.0118 sec/batch')\n",
      "('Epoch: 411/1000... ', 'Training Step: 22600... ', 'Training loss: 1.6332... ', '0.0118 sec/batch')\n",
      "('Epoch: 415/1000... ', 'Training Step: 22800... ', 'Training loss: 1.8838... ', '0.0120 sec/batch')\n",
      "('Epoch: 419/1000... ', 'Training Step: 23000... ', 'Training loss: 1.7444... ', '0.0115 sec/batch')\n",
      "('Epoch: 422/1000... ', 'Training Step: 23200... ', 'Training loss: 1.7573... ', '0.0118 sec/batch')\n",
      "('Epoch: 426/1000... ', 'Training Step: 23400... ', 'Training loss: 1.9341... ', '0.0119 sec/batch')\n",
      "('Epoch: 430/1000... ', 'Training Step: 23600... ', 'Training loss: 1.9448... ', '0.0117 sec/batch')\n",
      "('Epoch: 433/1000... ', 'Training Step: 23800... ', 'Training loss: 1.7725... ', '0.0118 sec/batch')\n",
      "('Epoch: 437/1000... ', 'Training Step: 24000... ', 'Training loss: 1.7681... ', '0.0121 sec/batch')\n",
      "('Epoch: 440/1000... ', 'Training Step: 24200... ', 'Training loss: 1.8010... ', '0.0117 sec/batch')\n",
      "('Epoch: 444/1000... ', 'Training Step: 24400... ', 'Training loss: 1.6648... ', '0.0119 sec/batch')\n",
      "('Epoch: 448/1000... ', 'Training Step: 24600... ', 'Training loss: 1.7230... ', '0.0119 sec/batch')\n",
      "('Epoch: 451/1000... ', 'Training Step: 24800... ', 'Training loss: 1.5938... ', '0.0120 sec/batch')\n",
      "('Epoch: 455/1000... ', 'Training Step: 25000... ', 'Training loss: 2.0098... ', '0.0120 sec/batch')\n",
      "('Epoch: 459/1000... ', 'Training Step: 25200... ', 'Training loss: 1.7013... ', '0.0121 sec/batch')\n",
      "('Epoch: 462/1000... ', 'Training Step: 25400... ', 'Training loss: 1.6880... ', '0.0119 sec/batch')\n",
      "('Epoch: 466/1000... ', 'Training Step: 25600... ', 'Training loss: 1.8080... ', '0.0121 sec/batch')\n",
      "('Epoch: 470/1000... ', 'Training Step: 25800... ', 'Training loss: 1.7975... ', '0.0120 sec/batch')\n",
      "('Epoch: 473/1000... ', 'Training Step: 26000... ', 'Training loss: 1.7258... ', '0.0116 sec/batch')\n",
      "('Epoch: 477/1000... ', 'Training Step: 26200... ', 'Training loss: 1.6365... ', '0.0118 sec/batch')\n",
      "('Epoch: 480/1000... ', 'Training Step: 26400... ', 'Training loss: 1.6293... ', '0.0122 sec/batch')\n",
      "('Epoch: 484/1000... ', 'Training Step: 26600... ', 'Training loss: 1.6265... ', '0.0120 sec/batch')\n",
      "('Epoch: 488/1000... ', 'Training Step: 26800... ', 'Training loss: 1.6483... ', '0.0119 sec/batch')\n",
      "('Epoch: 491/1000... ', 'Training Step: 27000... ', 'Training loss: 1.4235... ', '0.0124 sec/batch')\n",
      "('Epoch: 495/1000... ', 'Training Step: 27200... ', 'Training loss: 1.8302... ', '0.0201 sec/batch')\n",
      "('Epoch: 499/1000... ', 'Training Step: 27400... ', 'Training loss: 1.6644... ', '0.0119 sec/batch')\n",
      "('Epoch: 502/1000... ', 'Training Step: 27600... ', 'Training loss: 1.6332... ', '0.0120 sec/batch')\n",
      "('Epoch: 506/1000... ', 'Training Step: 27800... ', 'Training loss: 1.7454... ', '0.0122 sec/batch')\n",
      "('Epoch: 510/1000... ', 'Training Step: 28000... ', 'Training loss: 1.7222... ', '0.0119 sec/batch')\n",
      "('Epoch: 513/1000... ', 'Training Step: 28200... ', 'Training loss: 1.6418... ', '0.0119 sec/batch')\n",
      "('Epoch: 517/1000... ', 'Training Step: 28400... ', 'Training loss: 1.7903... ', '0.0118 sec/batch')\n",
      "('Epoch: 520/1000... ', 'Training Step: 28600... ', 'Training loss: 1.5341... ', '0.0118 sec/batch')\n",
      "('Epoch: 524/1000... ', 'Training Step: 28800... ', 'Training loss: 1.5452... ', '0.0121 sec/batch')\n",
      "('Epoch: 528/1000... ', 'Training Step: 29000... ', 'Training loss: 1.5441... ', '0.0121 sec/batch')\n",
      "('Epoch: 531/1000... ', 'Training Step: 29200... ', 'Training loss: 1.4697... ', '0.0118 sec/batch')\n",
      "('Epoch: 535/1000... ', 'Training Step: 29400... ', 'Training loss: 1.8609... ', '0.0119 sec/batch')\n",
      "('Epoch: 539/1000... ', 'Training Step: 29600... ', 'Training loss: 1.6611... ', '0.0119 sec/batch')\n",
      "('Epoch: 542/1000... ', 'Training Step: 29800... ', 'Training loss: 1.5783... ', '0.0121 sec/batch')\n",
      "('Epoch: 546/1000... ', 'Training Step: 30000... ', 'Training loss: 1.6741... ', '0.0120 sec/batch')\n",
      "('Epoch: 550/1000... ', 'Training Step: 30200... ', 'Training loss: 1.6956... ', '0.0118 sec/batch')\n",
      "('Epoch: 553/1000... ', 'Training Step: 30400... ', 'Training loss: 1.6229... ', '0.0115 sec/batch')\n",
      "('Epoch: 557/1000... ', 'Training Step: 30600... ', 'Training loss: 1.5638... ', '0.0119 sec/batch')\n",
      "('Epoch: 560/1000... ', 'Training Step: 30800... ', 'Training loss: 1.4682... ', '0.0119 sec/batch')\n",
      "('Epoch: 564/1000... ', 'Training Step: 31000... ', 'Training loss: 1.4903... ', '0.0119 sec/batch')\n",
      "('Epoch: 568/1000... ', 'Training Step: 31200... ', 'Training loss: 1.5726... ', '0.0119 sec/batch')\n",
      "('Epoch: 571/1000... ', 'Training Step: 31400... ', 'Training loss: 1.2678... ', '0.0120 sec/batch')\n",
      "('Epoch: 575/1000... ', 'Training Step: 31600... ', 'Training loss: 1.7281... ', '0.0120 sec/batch')\n",
      "('Epoch: 579/1000... ', 'Training Step: 31800... ', 'Training loss: 1.5122... ', '0.0117 sec/batch')\n",
      "('Epoch: 582/1000... ', 'Training Step: 32000... ', 'Training loss: 1.5496... ', '0.0121 sec/batch')\n",
      "('Epoch: 586/1000... ', 'Training Step: 32200... ', 'Training loss: 1.4548... ', '0.0119 sec/batch')\n",
      "('Epoch: 590/1000... ', 'Training Step: 32400... ', 'Training loss: 1.5739... ', '0.0119 sec/batch')\n",
      "('Epoch: 593/1000... ', 'Training Step: 32600... ', 'Training loss: 1.5770... ', '0.0122 sec/batch')\n",
      "('Epoch: 597/1000... ', 'Training Step: 32800... ', 'Training loss: 1.5458... ', '0.0118 sec/batch')\n"
     ]
    },
    {
     "name": "stdout",
     "output_type": "stream",
     "text": [
      "('Epoch: 600/1000... ', 'Training Step: 33000... ', 'Training loss: 1.4468... ', '0.0122 sec/batch')\n",
      "('Epoch: 604/1000... ', 'Training Step: 33200... ', 'Training loss: 1.2529... ', '0.0116 sec/batch')\n",
      "('Epoch: 608/1000... ', 'Training Step: 33400... ', 'Training loss: 1.5837... ', '0.0119 sec/batch')\n",
      "('Epoch: 611/1000... ', 'Training Step: 33600... ', 'Training loss: 1.4056... ', '0.0121 sec/batch')\n",
      "('Epoch: 615/1000... ', 'Training Step: 33800... ', 'Training loss: 1.8354... ', '0.0119 sec/batch')\n",
      "('Epoch: 619/1000... ', 'Training Step: 34000... ', 'Training loss: 1.4491... ', '0.0120 sec/batch')\n",
      "('Epoch: 622/1000... ', 'Training Step: 34200... ', 'Training loss: 1.4175... ', '0.0119 sec/batch')\n",
      "('Epoch: 626/1000... ', 'Training Step: 34400... ', 'Training loss: 1.5803... ', '0.0115 sec/batch')\n",
      "('Epoch: 630/1000... ', 'Training Step: 34600... ', 'Training loss: 1.4672... ', '0.0119 sec/batch')\n",
      "('Epoch: 633/1000... ', 'Training Step: 34800... ', 'Training loss: 1.4961... ', '0.0119 sec/batch')\n",
      "('Epoch: 637/1000... ', 'Training Step: 35000... ', 'Training loss: 1.3739... ', '0.0118 sec/batch')\n",
      "('Epoch: 640/1000... ', 'Training Step: 35200... ', 'Training loss: 1.3294... ', '0.0120 sec/batch')\n",
      "('Epoch: 644/1000... ', 'Training Step: 35400... ', 'Training loss: 1.4097... ', '0.0137 sec/batch')\n",
      "('Epoch: 648/1000... ', 'Training Step: 35600... ', 'Training loss: 1.3880... ', '0.0120 sec/batch')\n",
      "('Epoch: 651/1000... ', 'Training Step: 35800... ', 'Training loss: 1.3190... ', '0.0118 sec/batch')\n",
      "('Epoch: 655/1000... ', 'Training Step: 36000... ', 'Training loss: 1.8381... ', '0.0118 sec/batch')\n",
      "('Epoch: 659/1000... ', 'Training Step: 36200... ', 'Training loss: 1.5373... ', '0.0121 sec/batch')\n",
      "('Epoch: 662/1000... ', 'Training Step: 36400... ', 'Training loss: 1.3426... ', '0.0118 sec/batch')\n",
      "('Epoch: 666/1000... ', 'Training Step: 36600... ', 'Training loss: 1.3177... ', '0.0119 sec/batch')\n",
      "('Epoch: 670/1000... ', 'Training Step: 36800... ', 'Training loss: 1.4596... ', '0.0116 sec/batch')\n",
      "('Epoch: 673/1000... ', 'Training Step: 37000... ', 'Training loss: 1.3270... ', '0.0120 sec/batch')\n",
      "('Epoch: 677/1000... ', 'Training Step: 37200... ', 'Training loss: 1.3278... ', '0.0121 sec/batch')\n",
      "('Epoch: 680/1000... ', 'Training Step: 37400... ', 'Training loss: 1.4724... ', '0.0119 sec/batch')\n",
      "('Epoch: 684/1000... ', 'Training Step: 37600... ', 'Training loss: 1.3295... ', '0.0119 sec/batch')\n",
      "('Epoch: 688/1000... ', 'Training Step: 37800... ', 'Training loss: 1.2953... ', '0.0122 sec/batch')\n",
      "('Epoch: 691/1000... ', 'Training Step: 38000... ', 'Training loss: 1.2400... ', '0.0116 sec/batch')\n",
      "('Epoch: 695/1000... ', 'Training Step: 38200... ', 'Training loss: 1.6198... ', '0.0119 sec/batch')\n",
      "('Epoch: 699/1000... ', 'Training Step: 38400... ', 'Training loss: 1.3610... ', '0.0121 sec/batch')\n",
      "('Epoch: 702/1000... ', 'Training Step: 38600... ', 'Training loss: 1.2959... ', '0.0118 sec/batch')\n",
      "('Epoch: 706/1000... ', 'Training Step: 38800... ', 'Training loss: 1.4229... ', '0.0121 sec/batch')\n",
      "('Epoch: 710/1000... ', 'Training Step: 39000... ', 'Training loss: 1.4442... ', '0.0193 sec/batch')\n",
      "('Epoch: 713/1000... ', 'Training Step: 39200... ', 'Training loss: 1.1937... ', '0.0118 sec/batch')\n",
      "('Epoch: 717/1000... ', 'Training Step: 39400... ', 'Training loss: 1.4116... ', '0.0116 sec/batch')\n",
      "('Epoch: 720/1000... ', 'Training Step: 39600... ', 'Training loss: 1.2896... ', '0.0119 sec/batch')\n",
      "('Epoch: 724/1000... ', 'Training Step: 39800... ', 'Training loss: 1.2730... ', '0.0118 sec/batch')\n",
      "('Epoch: 728/1000... ', 'Training Step: 40000... ', 'Training loss: 1.3231... ', '0.0117 sec/batch')\n",
      "('Epoch: 731/1000... ', 'Training Step: 40200... ', 'Training loss: 1.2440... ', '0.0120 sec/batch')\n",
      "('Epoch: 735/1000... ', 'Training Step: 40400... ', 'Training loss: 1.5468... ', '0.0182 sec/batch')\n",
      "('Epoch: 739/1000... ', 'Training Step: 40600... ', 'Training loss: 1.2978... ', '0.0155 sec/batch')\n",
      "('Epoch: 742/1000... ', 'Training Step: 40800... ', 'Training loss: 1.2495... ', '0.0117 sec/batch')\n",
      "('Epoch: 746/1000... ', 'Training Step: 41000... ', 'Training loss: 1.3138... ', '0.0224 sec/batch')\n",
      "('Epoch: 750/1000... ', 'Training Step: 41200... ', 'Training loss: 1.3862... ', '0.0129 sec/batch')\n",
      "('Epoch: 753/1000... ', 'Training Step: 41400... ', 'Training loss: 1.2641... ', '0.0122 sec/batch')\n",
      "('Epoch: 757/1000... ', 'Training Step: 41600... ', 'Training loss: 1.4329... ', '0.0119 sec/batch')\n",
      "('Epoch: 760/1000... ', 'Training Step: 41800... ', 'Training loss: 1.2263... ', '0.0119 sec/batch')\n",
      "('Epoch: 764/1000... ', 'Training Step: 42000... ', 'Training loss: 1.1933... ', '0.0119 sec/batch')\n",
      "('Epoch: 768/1000... ', 'Training Step: 42200... ', 'Training loss: 1.2183... ', '0.0119 sec/batch')\n",
      "('Epoch: 771/1000... ', 'Training Step: 42400... ', 'Training loss: 1.0460... ', '0.0117 sec/batch')\n",
      "('Epoch: 775/1000... ', 'Training Step: 42600... ', 'Training loss: 1.7050... ', '0.0119 sec/batch')\n",
      "('Epoch: 779/1000... ', 'Training Step: 42800... ', 'Training loss: 1.1136... ', '0.0118 sec/batch')\n",
      "('Epoch: 782/1000... ', 'Training Step: 43000... ', 'Training loss: 1.3210... ', '0.0120 sec/batch')\n",
      "('Epoch: 786/1000... ', 'Training Step: 43200... ', 'Training loss: 1.5000... ', '0.0127 sec/batch')\n",
      "('Epoch: 790/1000... ', 'Training Step: 43400... ', 'Training loss: 1.4299... ', '0.0121 sec/batch')\n",
      "('Epoch: 793/1000... ', 'Training Step: 43600... ', 'Training loss: 1.2402... ', '0.0120 sec/batch')\n",
      "('Epoch: 797/1000... ', 'Training Step: 43800... ', 'Training loss: 1.1559... ', '0.0119 sec/batch')\n",
      "('Epoch: 800/1000... ', 'Training Step: 44000... ', 'Training loss: 1.2374... ', '0.0120 sec/batch')\n",
      "('Epoch: 804/1000... ', 'Training Step: 44200... ', 'Training loss: 1.1010... ', '0.0117 sec/batch')\n",
      "('Epoch: 808/1000... ', 'Training Step: 44400... ', 'Training loss: 1.1186... ', '0.0119 sec/batch')\n",
      "('Epoch: 811/1000... ', 'Training Step: 44600... ', 'Training loss: 1.2375... ', '0.0120 sec/batch')\n",
      "('Epoch: 815/1000... ', 'Training Step: 44800... ', 'Training loss: 1.3876... ', '0.0119 sec/batch')\n",
      "('Epoch: 819/1000... ', 'Training Step: 45000... ', 'Training loss: 1.0753... ', '0.0118 sec/batch')\n",
      "('Epoch: 822/1000... ', 'Training Step: 45200... ', 'Training loss: 1.2334... ', '0.0116 sec/batch')\n",
      "('Epoch: 826/1000... ', 'Training Step: 45400... ', 'Training loss: 1.3405... ', '0.0118 sec/batch')\n",
      "('Epoch: 830/1000... ', 'Training Step: 45600... ', 'Training loss: 1.3088... ', '0.0121 sec/batch')\n",
      "('Epoch: 833/1000... ', 'Training Step: 45800... ', 'Training loss: 1.2589... ', '0.0119 sec/batch')\n",
      "('Epoch: 837/1000... ', 'Training Step: 46000... ', 'Training loss: 1.3131... ', '0.0118 sec/batch')\n",
      "('Epoch: 840/1000... ', 'Training Step: 46200... ', 'Training loss: 1.1295... ', '0.0120 sec/batch')\n",
      "('Epoch: 844/1000... ', 'Training Step: 46400... ', 'Training loss: 1.0861... ', '0.0119 sec/batch')\n",
      "('Epoch: 848/1000... ', 'Training Step: 46600... ', 'Training loss: 1.1795... ', '0.0120 sec/batch')\n",
      "('Epoch: 851/1000... ', 'Training Step: 46800... ', 'Training loss: 1.2072... ', '0.0120 sec/batch')\n",
      "('Epoch: 855/1000... ', 'Training Step: 47000... ', 'Training loss: 1.2895... ', '0.0120 sec/batch')\n",
      "('Epoch: 859/1000... ', 'Training Step: 47200... ', 'Training loss: 1.1594... ', '0.0118 sec/batch')\n",
      "('Epoch: 862/1000... ', 'Training Step: 47400... ', 'Training loss: 1.3251... ', '0.0120 sec/batch')\n",
      "('Epoch: 866/1000... ', 'Training Step: 47600... ', 'Training loss: 1.2550... ', '0.0119 sec/batch')\n",
      "('Epoch: 870/1000... ', 'Training Step: 47800... ', 'Training loss: 1.3006... ', '0.0122 sec/batch')\n",
      "('Epoch: 873/1000... ', 'Training Step: 48000... ', 'Training loss: 1.0753... ', '0.0118 sec/batch')\n",
      "('Epoch: 877/1000... ', 'Training Step: 48200... ', 'Training loss: 1.0256... ', '0.0117 sec/batch')\n",
      "('Epoch: 880/1000... ', 'Training Step: 48400... ', 'Training loss: 1.1381... ', '0.0131 sec/batch')\n",
      "('Epoch: 884/1000... ', 'Training Step: 48600... ', 'Training loss: 1.0283... ', '0.0122 sec/batch')\n",
      "('Epoch: 888/1000... ', 'Training Step: 48800... ', 'Training loss: 1.0877... ', '0.0180 sec/batch')\n",
      "('Epoch: 891/1000... ', 'Training Step: 49000... ', 'Training loss: 1.1250... ', '0.0178 sec/batch')\n",
      "('Epoch: 895/1000... ', 'Training Step: 49200... ', 'Training loss: 1.3459... ', '0.0164 sec/batch')\n"
     ]
    },
    {
     "name": "stdout",
     "output_type": "stream",
     "text": [
      "('Epoch: 899/1000... ', 'Training Step: 49400... ', 'Training loss: 1.0163... ', '0.0117 sec/batch')\n",
      "('Epoch: 902/1000... ', 'Training Step: 49600... ', 'Training loss: 1.1657... ', '0.0122 sec/batch')\n",
      "('Epoch: 906/1000... ', 'Training Step: 49800... ', 'Training loss: 1.1244... ', '0.0119 sec/batch')\n",
      "('Epoch: 910/1000... ', 'Training Step: 50000... ', 'Training loss: 1.2058... ', '0.0115 sec/batch')\n",
      "('Epoch: 913/1000... ', 'Training Step: 50200... ', 'Training loss: 1.1516... ', '0.0122 sec/batch')\n",
      "('Epoch: 917/1000... ', 'Training Step: 50400... ', 'Training loss: 1.2179... ', '0.0117 sec/batch')\n",
      "('Epoch: 920/1000... ', 'Training Step: 50600... ', 'Training loss: 1.0915... ', '0.0120 sec/batch')\n",
      "('Epoch: 924/1000... ', 'Training Step: 50800... ', 'Training loss: 0.9702... ', '0.0122 sec/batch')\n",
      "('Epoch: 928/1000... ', 'Training Step: 51000... ', 'Training loss: 1.0851... ', '0.0121 sec/batch')\n",
      "('Epoch: 931/1000... ', 'Training Step: 51200... ', 'Training loss: 1.0122... ', '0.0120 sec/batch')\n",
      "('Epoch: 935/1000... ', 'Training Step: 51400... ', 'Training loss: 1.2944... ', '0.0124 sec/batch')\n",
      "('Epoch: 939/1000... ', 'Training Step: 51600... ', 'Training loss: 1.0636... ', '0.0118 sec/batch')\n",
      "('Epoch: 942/1000... ', 'Training Step: 51800... ', 'Training loss: 1.1959... ', '0.0121 sec/batch')\n",
      "('Epoch: 946/1000... ', 'Training Step: 52000... ', 'Training loss: 1.2777... ', '0.0120 sec/batch')\n",
      "('Epoch: 950/1000... ', 'Training Step: 52200... ', 'Training loss: 1.3764... ', '0.0121 sec/batch')\n",
      "('Epoch: 953/1000... ', 'Training Step: 52400... ', 'Training loss: 1.1758... ', '0.0118 sec/batch')\n",
      "('Epoch: 957/1000... ', 'Training Step: 52600... ', 'Training loss: 0.9815... ', '0.0119 sec/batch')\n",
      "('Epoch: 960/1000... ', 'Training Step: 52800... ', 'Training loss: 1.1574... ', '0.0123 sec/batch')\n",
      "('Epoch: 964/1000... ', 'Training Step: 53000... ', 'Training loss: 0.8945... ', '0.0121 sec/batch')\n",
      "('Epoch: 968/1000... ', 'Training Step: 53200... ', 'Training loss: 1.1411... ', '0.0119 sec/batch')\n",
      "('Epoch: 971/1000... ', 'Training Step: 53400... ', 'Training loss: 0.8358... ', '0.0120 sec/batch')\n",
      "('Epoch: 975/1000... ', 'Training Step: 53600... ', 'Training loss: 1.2255... ', '0.0121 sec/batch')\n",
      "('Epoch: 979/1000... ', 'Training Step: 53800... ', 'Training loss: 1.0608... ', '0.0116 sec/batch')\n",
      "('Epoch: 982/1000... ', 'Training Step: 54000... ', 'Training loss: 0.9464... ', '0.0121 sec/batch')\n",
      "('Epoch: 986/1000... ', 'Training Step: 54200... ', 'Training loss: 1.2885... ', '0.0122 sec/batch')\n",
      "('Epoch: 990/1000... ', 'Training Step: 54400... ', 'Training loss: 1.2730... ', '0.0120 sec/batch')\n",
      "('Epoch: 993/1000... ', 'Training Step: 54600... ', 'Training loss: 0.8629... ', '0.0117 sec/batch')\n",
      "('Epoch: 997/1000... ', 'Training Step: 54800... ', 'Training loss: 0.9764... ', '0.0122 sec/batch')\n",
      "('Epoch: 1000/1000... ', 'Training Step: 55000... ', 'Training loss: 0.9741... ', '0.0121 sec/batch')\n"
     ]
    }
   ],
   "source": [
    "epochs = 1000\n",
    "# Print losses every N interations\n",
    "print_every_n = 200\n",
    "\n",
    "# Save every N iterations\n",
    "save_every_n = 200\n",
    "\n",
    "model = CharRNN(len(vocab), batch_size=batch_size, num_steps=num_steps,\n",
    "                lstm_size=lstm_size, num_layers=num_layers, \n",
    "                learning_rate=learning_rate)\n",
    "\n",
    "saver = tf.train.Saver(max_to_keep=100)\n",
    "with tf.Session() as sess:\n",
    "    sess.run(tf.global_variables_initializer())\n",
    "    \n",
    "    # Use the line below to load a checkpoint and resume training\n",
    "    #saver.restore(sess, 'checkpoints/______.ckpt')\n",
    "    counter = 0\n",
    "    for e in range(epochs):\n",
    "        # Train network\n",
    "        new_state = sess.run(model.initial_state)\n",
    "        loss = 0\n",
    "        for x, y in get_batches(encoded, batch_size, num_steps):\n",
    "            counter += 1\n",
    "            start = time.time()\n",
    "            feed = {model.inputs: x,\n",
    "                    model.targets: y,\n",
    "                    model.keep_prob: keep_prob,\n",
    "                    model.initial_state: new_state}\n",
    "            batch_loss, new_state, _ = sess.run([model.loss, \n",
    "                                                 model.final_state, \n",
    "                                                 model.optimizer], \n",
    "                                                 feed_dict=feed)\n",
    "            if (counter % print_every_n == 0):\n",
    "                end = time.time()\n",
    "                print('Epoch: {}/{}... '.format(e+1, epochs),\n",
    "                      'Training Step: {}... '.format(counter),\n",
    "                      'Training loss: {:.4f}... '.format(batch_loss),\n",
    "                      '{:.4f} sec/batch'.format((end-start)))\n",
    "        \n",
    "            if (counter % save_every_n == 0):\n",
    "                saver.save(sess, \"checkpoints/i{}_l{}.ckpt\".format(counter, lstm_size))\n",
    "    \n",
    "    saver.save(sess, \"checkpoints/i{}_l{}.ckpt\".format(counter, lstm_size))"
   ]
  },
  {
   "cell_type": "markdown",
   "metadata": {},
   "source": [
    "#### Saved checkpoints\n",
    "\n",
    "Read up on saving and loading checkpoints here: https://www.tensorflow.org/programmers_guide/variables"
   ]
  },
  {
   "cell_type": "code",
   "execution_count": 39,
   "metadata": {},
   "outputs": [
    {
     "data": {
      "text/plain": [
       "model_checkpoint_path: \"checkpoints/i55000_l32.ckpt\"\n",
       "all_model_checkpoint_paths: \"checkpoints/i35200_l32.ckpt\"\n",
       "all_model_checkpoint_paths: \"checkpoints/i35400_l32.ckpt\"\n",
       "all_model_checkpoint_paths: \"checkpoints/i35600_l32.ckpt\"\n",
       "all_model_checkpoint_paths: \"checkpoints/i35800_l32.ckpt\"\n",
       "all_model_checkpoint_paths: \"checkpoints/i36000_l32.ckpt\"\n",
       "all_model_checkpoint_paths: \"checkpoints/i36200_l32.ckpt\"\n",
       "all_model_checkpoint_paths: \"checkpoints/i36400_l32.ckpt\"\n",
       "all_model_checkpoint_paths: \"checkpoints/i36600_l32.ckpt\"\n",
       "all_model_checkpoint_paths: \"checkpoints/i36800_l32.ckpt\"\n",
       "all_model_checkpoint_paths: \"checkpoints/i37000_l32.ckpt\"\n",
       "all_model_checkpoint_paths: \"checkpoints/i37200_l32.ckpt\"\n",
       "all_model_checkpoint_paths: \"checkpoints/i37400_l32.ckpt\"\n",
       "all_model_checkpoint_paths: \"checkpoints/i37600_l32.ckpt\"\n",
       "all_model_checkpoint_paths: \"checkpoints/i37800_l32.ckpt\"\n",
       "all_model_checkpoint_paths: \"checkpoints/i38000_l32.ckpt\"\n",
       "all_model_checkpoint_paths: \"checkpoints/i38200_l32.ckpt\"\n",
       "all_model_checkpoint_paths: \"checkpoints/i38400_l32.ckpt\"\n",
       "all_model_checkpoint_paths: \"checkpoints/i38600_l32.ckpt\"\n",
       "all_model_checkpoint_paths: \"checkpoints/i38800_l32.ckpt\"\n",
       "all_model_checkpoint_paths: \"checkpoints/i39000_l32.ckpt\"\n",
       "all_model_checkpoint_paths: \"checkpoints/i39200_l32.ckpt\"\n",
       "all_model_checkpoint_paths: \"checkpoints/i39400_l32.ckpt\"\n",
       "all_model_checkpoint_paths: \"checkpoints/i39600_l32.ckpt\"\n",
       "all_model_checkpoint_paths: \"checkpoints/i39800_l32.ckpt\"\n",
       "all_model_checkpoint_paths: \"checkpoints/i40000_l32.ckpt\"\n",
       "all_model_checkpoint_paths: \"checkpoints/i40200_l32.ckpt\"\n",
       "all_model_checkpoint_paths: \"checkpoints/i40400_l32.ckpt\"\n",
       "all_model_checkpoint_paths: \"checkpoints/i40600_l32.ckpt\"\n",
       "all_model_checkpoint_paths: \"checkpoints/i40800_l32.ckpt\"\n",
       "all_model_checkpoint_paths: \"checkpoints/i41000_l32.ckpt\"\n",
       "all_model_checkpoint_paths: \"checkpoints/i41200_l32.ckpt\"\n",
       "all_model_checkpoint_paths: \"checkpoints/i41400_l32.ckpt\"\n",
       "all_model_checkpoint_paths: \"checkpoints/i41600_l32.ckpt\"\n",
       "all_model_checkpoint_paths: \"checkpoints/i41800_l32.ckpt\"\n",
       "all_model_checkpoint_paths: \"checkpoints/i42000_l32.ckpt\"\n",
       "all_model_checkpoint_paths: \"checkpoints/i42200_l32.ckpt\"\n",
       "all_model_checkpoint_paths: \"checkpoints/i42400_l32.ckpt\"\n",
       "all_model_checkpoint_paths: \"checkpoints/i42600_l32.ckpt\"\n",
       "all_model_checkpoint_paths: \"checkpoints/i42800_l32.ckpt\"\n",
       "all_model_checkpoint_paths: \"checkpoints/i43000_l32.ckpt\"\n",
       "all_model_checkpoint_paths: \"checkpoints/i43200_l32.ckpt\"\n",
       "all_model_checkpoint_paths: \"checkpoints/i43400_l32.ckpt\"\n",
       "all_model_checkpoint_paths: \"checkpoints/i43600_l32.ckpt\"\n",
       "all_model_checkpoint_paths: \"checkpoints/i43800_l32.ckpt\"\n",
       "all_model_checkpoint_paths: \"checkpoints/i44000_l32.ckpt\"\n",
       "all_model_checkpoint_paths: \"checkpoints/i44200_l32.ckpt\"\n",
       "all_model_checkpoint_paths: \"checkpoints/i44400_l32.ckpt\"\n",
       "all_model_checkpoint_paths: \"checkpoints/i44600_l32.ckpt\"\n",
       "all_model_checkpoint_paths: \"checkpoints/i44800_l32.ckpt\"\n",
       "all_model_checkpoint_paths: \"checkpoints/i45000_l32.ckpt\"\n",
       "all_model_checkpoint_paths: \"checkpoints/i45200_l32.ckpt\"\n",
       "all_model_checkpoint_paths: \"checkpoints/i45400_l32.ckpt\"\n",
       "all_model_checkpoint_paths: \"checkpoints/i45600_l32.ckpt\"\n",
       "all_model_checkpoint_paths: \"checkpoints/i45800_l32.ckpt\"\n",
       "all_model_checkpoint_paths: \"checkpoints/i46000_l32.ckpt\"\n",
       "all_model_checkpoint_paths: \"checkpoints/i46200_l32.ckpt\"\n",
       "all_model_checkpoint_paths: \"checkpoints/i46400_l32.ckpt\"\n",
       "all_model_checkpoint_paths: \"checkpoints/i46600_l32.ckpt\"\n",
       "all_model_checkpoint_paths: \"checkpoints/i46800_l32.ckpt\"\n",
       "all_model_checkpoint_paths: \"checkpoints/i47000_l32.ckpt\"\n",
       "all_model_checkpoint_paths: \"checkpoints/i47200_l32.ckpt\"\n",
       "all_model_checkpoint_paths: \"checkpoints/i47400_l32.ckpt\"\n",
       "all_model_checkpoint_paths: \"checkpoints/i47600_l32.ckpt\"\n",
       "all_model_checkpoint_paths: \"checkpoints/i47800_l32.ckpt\"\n",
       "all_model_checkpoint_paths: \"checkpoints/i48000_l32.ckpt\"\n",
       "all_model_checkpoint_paths: \"checkpoints/i48200_l32.ckpt\"\n",
       "all_model_checkpoint_paths: \"checkpoints/i48400_l32.ckpt\"\n",
       "all_model_checkpoint_paths: \"checkpoints/i48600_l32.ckpt\"\n",
       "all_model_checkpoint_paths: \"checkpoints/i48800_l32.ckpt\"\n",
       "all_model_checkpoint_paths: \"checkpoints/i49000_l32.ckpt\"\n",
       "all_model_checkpoint_paths: \"checkpoints/i49200_l32.ckpt\"\n",
       "all_model_checkpoint_paths: \"checkpoints/i49400_l32.ckpt\"\n",
       "all_model_checkpoint_paths: \"checkpoints/i49600_l32.ckpt\"\n",
       "all_model_checkpoint_paths: \"checkpoints/i49800_l32.ckpt\"\n",
       "all_model_checkpoint_paths: \"checkpoints/i50000_l32.ckpt\"\n",
       "all_model_checkpoint_paths: \"checkpoints/i50200_l32.ckpt\"\n",
       "all_model_checkpoint_paths: \"checkpoints/i50400_l32.ckpt\"\n",
       "all_model_checkpoint_paths: \"checkpoints/i50600_l32.ckpt\"\n",
       "all_model_checkpoint_paths: \"checkpoints/i50800_l32.ckpt\"\n",
       "all_model_checkpoint_paths: \"checkpoints/i51000_l32.ckpt\"\n",
       "all_model_checkpoint_paths: \"checkpoints/i51200_l32.ckpt\"\n",
       "all_model_checkpoint_paths: \"checkpoints/i51400_l32.ckpt\"\n",
       "all_model_checkpoint_paths: \"checkpoints/i51600_l32.ckpt\"\n",
       "all_model_checkpoint_paths: \"checkpoints/i51800_l32.ckpt\"\n",
       "all_model_checkpoint_paths: \"checkpoints/i52000_l32.ckpt\"\n",
       "all_model_checkpoint_paths: \"checkpoints/i52200_l32.ckpt\"\n",
       "all_model_checkpoint_paths: \"checkpoints/i52400_l32.ckpt\"\n",
       "all_model_checkpoint_paths: \"checkpoints/i52600_l32.ckpt\"\n",
       "all_model_checkpoint_paths: \"checkpoints/i52800_l32.ckpt\"\n",
       "all_model_checkpoint_paths: \"checkpoints/i53000_l32.ckpt\"\n",
       "all_model_checkpoint_paths: \"checkpoints/i53200_l32.ckpt\"\n",
       "all_model_checkpoint_paths: \"checkpoints/i53400_l32.ckpt\"\n",
       "all_model_checkpoint_paths: \"checkpoints/i53600_l32.ckpt\"\n",
       "all_model_checkpoint_paths: \"checkpoints/i53800_l32.ckpt\"\n",
       "all_model_checkpoint_paths: \"checkpoints/i54000_l32.ckpt\"\n",
       "all_model_checkpoint_paths: \"checkpoints/i54200_l32.ckpt\"\n",
       "all_model_checkpoint_paths: \"checkpoints/i54400_l32.ckpt\"\n",
       "all_model_checkpoint_paths: \"checkpoints/i54600_l32.ckpt\"\n",
       "all_model_checkpoint_paths: \"checkpoints/i54800_l32.ckpt\"\n",
       "all_model_checkpoint_paths: \"checkpoints/i55000_l32.ckpt\""
      ]
     },
     "execution_count": 39,
     "metadata": {},
     "output_type": "execute_result"
    }
   ],
   "source": [
    "tf.train.get_checkpoint_state('checkpoints')"
   ]
  },
  {
   "cell_type": "markdown",
   "metadata": {},
   "source": [
    "## Sampling\n",
    "\n",
    "Now that the network is trained, we'll can use it to generate new text. The idea is that we pass in a character, then the network will predict the next character. We can use the new one, to predict the next one. And we keep doing this to generate all new text. I also included some functionality to prime the network with some text by passing in a string and building up a state from that.\n",
    "\n",
    "The network gives us predictions for each character. To reduce noise and make things a little less random, I'm going to only choose a new character from the top N most likely characters.\n",
    "\n"
   ]
  },
  {
   "cell_type": "code",
   "execution_count": 40,
   "metadata": {
    "collapsed": true
   },
   "outputs": [],
   "source": [
    "def pick_top_n(preds, vocab_size, top_n=5):\n",
    "    p = np.squeeze(preds)\n",
    "    p[np.argsort(p)[:-top_n]] = 0\n",
    "    p = p / np.sum(p)\n",
    "    c = np.random.choice(vocab_size, 1, p=p)[0]\n",
    "    return c"
   ]
  },
  {
   "cell_type": "code",
   "execution_count": 41,
   "metadata": {
    "collapsed": true
   },
   "outputs": [],
   "source": [
    "def sample(checkpoint, n_samples, lstm_size, vocab_size, prime=\"The \"):\n",
    "    samples = [c for c in prime]\n",
    "    model = CharRNN(len(vocab), lstm_size=lstm_size, sampling=True)\n",
    "    saver = tf.train.Saver()\n",
    "    with tf.Session() as sess:\n",
    "        saver.restore(sess, checkpoint)\n",
    "        new_state = sess.run(model.initial_state)\n",
    "        for c in prime:\n",
    "            x = np.zeros((1, 1))\n",
    "            x[0,0] = vocab_to_int[c]\n",
    "            feed = {model.inputs: x,\n",
    "                    model.keep_prob: 1.,\n",
    "                    model.initial_state: new_state}\n",
    "            preds, new_state = sess.run([model.prediction, model.final_state], \n",
    "                                         feed_dict=feed)\n",
    "\n",
    "        c = pick_top_n(preds, len(vocab))\n",
    "        samples.append(int_to_vocab[c])\n",
    "\n",
    "        for i in range(n_samples):\n",
    "            x[0,0] = c\n",
    "            feed = {model.inputs: x,\n",
    "                    model.keep_prob: 1.,\n",
    "                    model.initial_state: new_state}\n",
    "            preds, new_state = sess.run([model.prediction, model.final_state], \n",
    "                                         feed_dict=feed)\n",
    "\n",
    "            c = pick_top_n(preds, len(vocab))\n",
    "            samples.append(int_to_vocab[c])\n",
    "        \n",
    "    return ''.join(samples)"
   ]
  },
  {
   "cell_type": "markdown",
   "metadata": {},
   "source": [
    "Here, pass in the path to a checkpoint and sample from the network."
   ]
  },
  {
   "cell_type": "code",
   "execution_count": 268,
   "metadata": {},
   "outputs": [
    {
     "data": {
      "text/plain": [
       "u'checkpoints/i100_l512.ckpt'"
      ]
     },
     "execution_count": 268,
     "metadata": {},
     "output_type": "execute_result"
    }
   ],
   "source": [
    "tf.train.latest_checkpoint('checkpoints')"
   ]
  },
  {
   "cell_type": "code",
   "execution_count": 42,
   "metadata": {},
   "outputs": [
    {
     "name": "stdout",
     "output_type": "stream",
     "text": [
      "INFO:tensorflow:Restoring parameters from checkpoints/i55000_l32.ckpt\n",
      "Happy har, he thos he wos as ate an his, an hat as, wis wited an thete as wortis his as thoe had tist had h\n"
     ]
    }
   ],
   "source": [
    "checkpoint = tf.train.latest_checkpoint('checkpoints')\n",
    "samp = sample(checkpoint, 100, lstm_size, len(vocab), prime=\"Happy \")\n",
    "print(samp)"
   ]
  },
  {
   "cell_type": "code",
   "execution_count": 87,
   "metadata": {},
   "outputs": [
    {
     "name": "stdout",
     "output_type": "stream",
     "text": [
      "INFO:tensorflow:Restoring parameters from checkpoints/i200_l512.ckpt\n"
     ]
    },
    {
     "ename": "NotFoundError",
     "evalue": "Unsuccessful TensorSliceReader constructor: Failed to find any matching files for checkpoints/i200_l512.ckpt\n\t [[Node: save/RestoreV2 = RestoreV2[dtypes=[DT_FLOAT], _device=\"/job:localhost/replica:0/task:0/device:CPU:0\"](_arg_save/Const_0_0, save/RestoreV2/tensor_names, save/RestoreV2/shape_and_slices)]]\n\nCaused by op u'save/RestoreV2', defined at:\n  File \"/home/honeywell/anaconda2/lib/python2.7/runpy.py\", line 174, in _run_module_as_main\n    \"__main__\", fname, loader, pkg_name)\n  File \"/home/honeywell/anaconda2/lib/python2.7/runpy.py\", line 72, in _run_code\n    exec code in run_globals\n  File \"/home/honeywell/anaconda2/lib/python2.7/site-packages/ipykernel_launcher.py\", line 16, in <module>\n    app.launch_new_instance()\n  File \"/home/honeywell/anaconda2/lib/python2.7/site-packages/traitlets/config/application.py\", line 658, in launch_instance\n    app.start()\n  File \"/home/honeywell/anaconda2/lib/python2.7/site-packages/ipykernel/kernelapp.py\", line 477, in start\n    ioloop.IOLoop.instance().start()\n  File \"/home/honeywell/anaconda2/lib/python2.7/site-packages/zmq/eventloop/ioloop.py\", line 177, in start\n    super(ZMQIOLoop, self).start()\n  File \"/home/honeywell/anaconda2/lib/python2.7/site-packages/tornado/ioloop.py\", line 888, in start\n    handler_func(fd_obj, events)\n  File \"/home/honeywell/anaconda2/lib/python2.7/site-packages/tornado/stack_context.py\", line 277, in null_wrapper\n    return fn(*args, **kwargs)\n  File \"/home/honeywell/anaconda2/lib/python2.7/site-packages/zmq/eventloop/zmqstream.py\", line 440, in _handle_events\n    self._handle_recv()\n  File \"/home/honeywell/anaconda2/lib/python2.7/site-packages/zmq/eventloop/zmqstream.py\", line 472, in _handle_recv\n    self._run_callback(callback, msg)\n  File \"/home/honeywell/anaconda2/lib/python2.7/site-packages/zmq/eventloop/zmqstream.py\", line 414, in _run_callback\n    callback(*args, **kwargs)\n  File \"/home/honeywell/anaconda2/lib/python2.7/site-packages/tornado/stack_context.py\", line 277, in null_wrapper\n    return fn(*args, **kwargs)\n  File \"/home/honeywell/anaconda2/lib/python2.7/site-packages/ipykernel/kernelbase.py\", line 283, in dispatcher\n    return self.dispatch_shell(stream, msg)\n  File \"/home/honeywell/anaconda2/lib/python2.7/site-packages/ipykernel/kernelbase.py\", line 235, in dispatch_shell\n    handler(stream, idents, msg)\n  File \"/home/honeywell/anaconda2/lib/python2.7/site-packages/ipykernel/kernelbase.py\", line 399, in execute_request\n    user_expressions, allow_stdin)\n  File \"/home/honeywell/anaconda2/lib/python2.7/site-packages/ipykernel/ipkernel.py\", line 196, in do_execute\n    res = shell.run_cell(code, store_history=store_history, silent=silent)\n  File \"/home/honeywell/anaconda2/lib/python2.7/site-packages/ipykernel/zmqshell.py\", line 533, in run_cell\n    return super(ZMQInteractiveShell, self).run_cell(*args, **kwargs)\n  File \"/home/honeywell/anaconda2/lib/python2.7/site-packages/IPython/core/interactiveshell.py\", line 2718, in run_cell\n    interactivity=interactivity, compiler=compiler, result=result)\n  File \"/home/honeywell/anaconda2/lib/python2.7/site-packages/IPython/core/interactiveshell.py\", line 2822, in run_ast_nodes\n    if self.run_code(code, result):\n  File \"/home/honeywell/anaconda2/lib/python2.7/site-packages/IPython/core/interactiveshell.py\", line 2882, in run_code\n    exec(code_obj, self.user_global_ns, self.user_ns)\n  File \"<ipython-input-87-d1a22da3ba8d>\", line 2, in <module>\n    samp = sample(checkpoint, 1000, lstm_size, len(vocab), prime=\"Far\")\n  File \"<ipython-input-84-8eb787ae9642>\", line 4, in sample\n    saver = tf.train.Saver()\n  File \"/home/honeywell/anaconda2/lib/python2.7/site-packages/tensorflow/python/training/saver.py\", line 1218, in __init__\n    self.build()\n  File \"/home/honeywell/anaconda2/lib/python2.7/site-packages/tensorflow/python/training/saver.py\", line 1227, in build\n    self._build(self._filename, build_save=True, build_restore=True)\n  File \"/home/honeywell/anaconda2/lib/python2.7/site-packages/tensorflow/python/training/saver.py\", line 1263, in _build\n    build_save=build_save, build_restore=build_restore)\n  File \"/home/honeywell/anaconda2/lib/python2.7/site-packages/tensorflow/python/training/saver.py\", line 751, in _build_internal\n    restore_sequentially, reshape)\n  File \"/home/honeywell/anaconda2/lib/python2.7/site-packages/tensorflow/python/training/saver.py\", line 427, in _AddRestoreOps\n    tensors = self.restore_op(filename_tensor, saveable, preferred_shard)\n  File \"/home/honeywell/anaconda2/lib/python2.7/site-packages/tensorflow/python/training/saver.py\", line 267, in restore_op\n    [spec.tensor.dtype])[0])\n  File \"/home/honeywell/anaconda2/lib/python2.7/site-packages/tensorflow/python/ops/gen_io_ops.py\", line 1021, in restore_v2\n    shape_and_slices=shape_and_slices, dtypes=dtypes, name=name)\n  File \"/home/honeywell/anaconda2/lib/python2.7/site-packages/tensorflow/python/framework/op_def_library.py\", line 787, in _apply_op_helper\n    op_def=op_def)\n  File \"/home/honeywell/anaconda2/lib/python2.7/site-packages/tensorflow/python/framework/ops.py\", line 2956, in create_op\n    op_def=op_def)\n  File \"/home/honeywell/anaconda2/lib/python2.7/site-packages/tensorflow/python/framework/ops.py\", line 1470, in __init__\n    self._traceback = self._graph._extract_stack()  # pylint: disable=protected-access\n\nNotFoundError (see above for traceback): Unsuccessful TensorSliceReader constructor: Failed to find any matching files for checkpoints/i200_l512.ckpt\n\t [[Node: save/RestoreV2 = RestoreV2[dtypes=[DT_FLOAT], _device=\"/job:localhost/replica:0/task:0/device:CPU:0\"](_arg_save/Const_0_0, save/RestoreV2/tensor_names, save/RestoreV2/shape_and_slices)]]\n",
     "output_type": "error",
     "traceback": [
      "\u001b[0;31m---------------------------------------------------------------------------\u001b[0m",
      "\u001b[0;31mNotFoundError\u001b[0m                             Traceback (most recent call last)",
      "\u001b[0;32m<ipython-input-87-d1a22da3ba8d>\u001b[0m in \u001b[0;36m<module>\u001b[0;34m()\u001b[0m\n\u001b[1;32m      1\u001b[0m \u001b[0mcheckpoint\u001b[0m \u001b[0;34m=\u001b[0m \u001b[0;34m'checkpoints/i200_l512.ckpt'\u001b[0m\u001b[0;34m\u001b[0m\u001b[0m\n\u001b[0;32m----> 2\u001b[0;31m \u001b[0msamp\u001b[0m \u001b[0;34m=\u001b[0m \u001b[0msample\u001b[0m\u001b[0;34m(\u001b[0m\u001b[0mcheckpoint\u001b[0m\u001b[0;34m,\u001b[0m \u001b[0;36m1000\u001b[0m\u001b[0;34m,\u001b[0m \u001b[0mlstm_size\u001b[0m\u001b[0;34m,\u001b[0m \u001b[0mlen\u001b[0m\u001b[0;34m(\u001b[0m\u001b[0mvocab\u001b[0m\u001b[0;34m)\u001b[0m\u001b[0;34m,\u001b[0m \u001b[0mprime\u001b[0m\u001b[0;34m=\u001b[0m\u001b[0;34m\"Far\"\u001b[0m\u001b[0;34m)\u001b[0m\u001b[0;34m\u001b[0m\u001b[0m\n\u001b[0m\u001b[1;32m      3\u001b[0m \u001b[0;32mprint\u001b[0m\u001b[0;34m(\u001b[0m\u001b[0msamp\u001b[0m\u001b[0;34m)\u001b[0m\u001b[0;34m\u001b[0m\u001b[0m\n",
      "\u001b[0;32m<ipython-input-84-8eb787ae9642>\u001b[0m in \u001b[0;36msample\u001b[0;34m(checkpoint, n_samples, lstm_size, vocab_size, prime)\u001b[0m\n\u001b[1;32m      4\u001b[0m     \u001b[0msaver\u001b[0m \u001b[0;34m=\u001b[0m \u001b[0mtf\u001b[0m\u001b[0;34m.\u001b[0m\u001b[0mtrain\u001b[0m\u001b[0;34m.\u001b[0m\u001b[0mSaver\u001b[0m\u001b[0;34m(\u001b[0m\u001b[0;34m)\u001b[0m\u001b[0;34m\u001b[0m\u001b[0m\n\u001b[1;32m      5\u001b[0m     \u001b[0;32mwith\u001b[0m \u001b[0mtf\u001b[0m\u001b[0;34m.\u001b[0m\u001b[0mSession\u001b[0m\u001b[0;34m(\u001b[0m\u001b[0;34m)\u001b[0m \u001b[0;32mas\u001b[0m \u001b[0msess\u001b[0m\u001b[0;34m:\u001b[0m\u001b[0;34m\u001b[0m\u001b[0m\n\u001b[0;32m----> 6\u001b[0;31m         \u001b[0msaver\u001b[0m\u001b[0;34m.\u001b[0m\u001b[0mrestore\u001b[0m\u001b[0;34m(\u001b[0m\u001b[0msess\u001b[0m\u001b[0;34m,\u001b[0m \u001b[0mcheckpoint\u001b[0m\u001b[0;34m)\u001b[0m\u001b[0;34m\u001b[0m\u001b[0m\n\u001b[0m\u001b[1;32m      7\u001b[0m         \u001b[0mnew_state\u001b[0m \u001b[0;34m=\u001b[0m \u001b[0msess\u001b[0m\u001b[0;34m.\u001b[0m\u001b[0mrun\u001b[0m\u001b[0;34m(\u001b[0m\u001b[0mmodel\u001b[0m\u001b[0;34m.\u001b[0m\u001b[0minitial_state\u001b[0m\u001b[0;34m)\u001b[0m\u001b[0;34m\u001b[0m\u001b[0m\n\u001b[1;32m      8\u001b[0m         \u001b[0;32mfor\u001b[0m \u001b[0mc\u001b[0m \u001b[0;32min\u001b[0m \u001b[0mprime\u001b[0m\u001b[0;34m:\u001b[0m\u001b[0;34m\u001b[0m\u001b[0m\n",
      "\u001b[0;32m/home/honeywell/anaconda2/lib/python2.7/site-packages/tensorflow/python/training/saver.pyc\u001b[0m in \u001b[0;36mrestore\u001b[0;34m(self, sess, save_path)\u001b[0m\n\u001b[1;32m   1664\u001b[0m     \u001b[0;32mif\u001b[0m \u001b[0mcontext\u001b[0m\u001b[0;34m.\u001b[0m\u001b[0min_graph_mode\u001b[0m\u001b[0;34m(\u001b[0m\u001b[0;34m)\u001b[0m\u001b[0;34m:\u001b[0m\u001b[0;34m\u001b[0m\u001b[0m\n\u001b[1;32m   1665\u001b[0m       sess.run(self.saver_def.restore_op_name,\n\u001b[0;32m-> 1666\u001b[0;31m                {self.saver_def.filename_tensor_name: save_path})\n\u001b[0m\u001b[1;32m   1667\u001b[0m     \u001b[0;32melse\u001b[0m\u001b[0;34m:\u001b[0m\u001b[0;34m\u001b[0m\u001b[0m\n\u001b[1;32m   1668\u001b[0m       \u001b[0mself\u001b[0m\u001b[0;34m.\u001b[0m\u001b[0m_build_eager\u001b[0m\u001b[0;34m(\u001b[0m\u001b[0msave_path\u001b[0m\u001b[0;34m,\u001b[0m \u001b[0mbuild_save\u001b[0m\u001b[0;34m=\u001b[0m\u001b[0mFalse\u001b[0m\u001b[0;34m,\u001b[0m \u001b[0mbuild_restore\u001b[0m\u001b[0;34m=\u001b[0m\u001b[0mTrue\u001b[0m\u001b[0;34m)\u001b[0m\u001b[0;34m\u001b[0m\u001b[0m\n",
      "\u001b[0;32m/home/honeywell/anaconda2/lib/python2.7/site-packages/tensorflow/python/client/session.pyc\u001b[0m in \u001b[0;36mrun\u001b[0;34m(self, fetches, feed_dict, options, run_metadata)\u001b[0m\n\u001b[1;32m    887\u001b[0m     \u001b[0;32mtry\u001b[0m\u001b[0;34m:\u001b[0m\u001b[0;34m\u001b[0m\u001b[0m\n\u001b[1;32m    888\u001b[0m       result = self._run(None, fetches, feed_dict, options_ptr,\n\u001b[0;32m--> 889\u001b[0;31m                          run_metadata_ptr)\n\u001b[0m\u001b[1;32m    890\u001b[0m       \u001b[0;32mif\u001b[0m \u001b[0mrun_metadata\u001b[0m\u001b[0;34m:\u001b[0m\u001b[0;34m\u001b[0m\u001b[0m\n\u001b[1;32m    891\u001b[0m         \u001b[0mproto_data\u001b[0m \u001b[0;34m=\u001b[0m \u001b[0mtf_session\u001b[0m\u001b[0;34m.\u001b[0m\u001b[0mTF_GetBuffer\u001b[0m\u001b[0;34m(\u001b[0m\u001b[0mrun_metadata_ptr\u001b[0m\u001b[0;34m)\u001b[0m\u001b[0;34m\u001b[0m\u001b[0m\n",
      "\u001b[0;32m/home/honeywell/anaconda2/lib/python2.7/site-packages/tensorflow/python/client/session.pyc\u001b[0m in \u001b[0;36m_run\u001b[0;34m(self, handle, fetches, feed_dict, options, run_metadata)\u001b[0m\n\u001b[1;32m   1118\u001b[0m     \u001b[0;32mif\u001b[0m \u001b[0mfinal_fetches\u001b[0m \u001b[0;32mor\u001b[0m \u001b[0mfinal_targets\u001b[0m \u001b[0;32mor\u001b[0m \u001b[0;34m(\u001b[0m\u001b[0mhandle\u001b[0m \u001b[0;32mand\u001b[0m \u001b[0mfeed_dict_tensor\u001b[0m\u001b[0;34m)\u001b[0m\u001b[0;34m:\u001b[0m\u001b[0;34m\u001b[0m\u001b[0m\n\u001b[1;32m   1119\u001b[0m       results = self._do_run(handle, final_targets, final_fetches,\n\u001b[0;32m-> 1120\u001b[0;31m                              feed_dict_tensor, options, run_metadata)\n\u001b[0m\u001b[1;32m   1121\u001b[0m     \u001b[0;32melse\u001b[0m\u001b[0;34m:\u001b[0m\u001b[0;34m\u001b[0m\u001b[0m\n\u001b[1;32m   1122\u001b[0m       \u001b[0mresults\u001b[0m \u001b[0;34m=\u001b[0m \u001b[0;34m[\u001b[0m\u001b[0;34m]\u001b[0m\u001b[0;34m\u001b[0m\u001b[0m\n",
      "\u001b[0;32m/home/honeywell/anaconda2/lib/python2.7/site-packages/tensorflow/python/client/session.pyc\u001b[0m in \u001b[0;36m_do_run\u001b[0;34m(self, handle, target_list, fetch_list, feed_dict, options, run_metadata)\u001b[0m\n\u001b[1;32m   1315\u001b[0m     \u001b[0;32mif\u001b[0m \u001b[0mhandle\u001b[0m \u001b[0;32mis\u001b[0m \u001b[0mNone\u001b[0m\u001b[0;34m:\u001b[0m\u001b[0;34m\u001b[0m\u001b[0m\n\u001b[1;32m   1316\u001b[0m       return self._do_call(_run_fn, self._session, feeds, fetches, targets,\n\u001b[0;32m-> 1317\u001b[0;31m                            options, run_metadata)\n\u001b[0m\u001b[1;32m   1318\u001b[0m     \u001b[0;32melse\u001b[0m\u001b[0;34m:\u001b[0m\u001b[0;34m\u001b[0m\u001b[0m\n\u001b[1;32m   1319\u001b[0m       \u001b[0;32mreturn\u001b[0m \u001b[0mself\u001b[0m\u001b[0;34m.\u001b[0m\u001b[0m_do_call\u001b[0m\u001b[0;34m(\u001b[0m\u001b[0m_prun_fn\u001b[0m\u001b[0;34m,\u001b[0m \u001b[0mself\u001b[0m\u001b[0;34m.\u001b[0m\u001b[0m_session\u001b[0m\u001b[0;34m,\u001b[0m \u001b[0mhandle\u001b[0m\u001b[0;34m,\u001b[0m \u001b[0mfeeds\u001b[0m\u001b[0;34m,\u001b[0m \u001b[0mfetches\u001b[0m\u001b[0;34m)\u001b[0m\u001b[0;34m\u001b[0m\u001b[0m\n",
      "\u001b[0;32m/home/honeywell/anaconda2/lib/python2.7/site-packages/tensorflow/python/client/session.pyc\u001b[0m in \u001b[0;36m_do_call\u001b[0;34m(self, fn, *args)\u001b[0m\n\u001b[1;32m   1334\u001b[0m         \u001b[0;32mexcept\u001b[0m \u001b[0mKeyError\u001b[0m\u001b[0;34m:\u001b[0m\u001b[0;34m\u001b[0m\u001b[0m\n\u001b[1;32m   1335\u001b[0m           \u001b[0;32mpass\u001b[0m\u001b[0;34m\u001b[0m\u001b[0m\n\u001b[0;32m-> 1336\u001b[0;31m       \u001b[0;32mraise\u001b[0m \u001b[0mtype\u001b[0m\u001b[0;34m(\u001b[0m\u001b[0me\u001b[0m\u001b[0;34m)\u001b[0m\u001b[0;34m(\u001b[0m\u001b[0mnode_def\u001b[0m\u001b[0;34m,\u001b[0m \u001b[0mop\u001b[0m\u001b[0;34m,\u001b[0m \u001b[0mmessage\u001b[0m\u001b[0;34m)\u001b[0m\u001b[0;34m\u001b[0m\u001b[0m\n\u001b[0m\u001b[1;32m   1337\u001b[0m \u001b[0;34m\u001b[0m\u001b[0m\n\u001b[1;32m   1338\u001b[0m   \u001b[0;32mdef\u001b[0m \u001b[0m_extend_graph\u001b[0m\u001b[0;34m(\u001b[0m\u001b[0mself\u001b[0m\u001b[0;34m)\u001b[0m\u001b[0;34m:\u001b[0m\u001b[0;34m\u001b[0m\u001b[0m\n",
      "\u001b[0;31mNotFoundError\u001b[0m: Unsuccessful TensorSliceReader constructor: Failed to find any matching files for checkpoints/i200_l512.ckpt\n\t [[Node: save/RestoreV2 = RestoreV2[dtypes=[DT_FLOAT], _device=\"/job:localhost/replica:0/task:0/device:CPU:0\"](_arg_save/Const_0_0, save/RestoreV2/tensor_names, save/RestoreV2/shape_and_slices)]]\n\nCaused by op u'save/RestoreV2', defined at:\n  File \"/home/honeywell/anaconda2/lib/python2.7/runpy.py\", line 174, in _run_module_as_main\n    \"__main__\", fname, loader, pkg_name)\n  File \"/home/honeywell/anaconda2/lib/python2.7/runpy.py\", line 72, in _run_code\n    exec code in run_globals\n  File \"/home/honeywell/anaconda2/lib/python2.7/site-packages/ipykernel_launcher.py\", line 16, in <module>\n    app.launch_new_instance()\n  File \"/home/honeywell/anaconda2/lib/python2.7/site-packages/traitlets/config/application.py\", line 658, in launch_instance\n    app.start()\n  File \"/home/honeywell/anaconda2/lib/python2.7/site-packages/ipykernel/kernelapp.py\", line 477, in start\n    ioloop.IOLoop.instance().start()\n  File \"/home/honeywell/anaconda2/lib/python2.7/site-packages/zmq/eventloop/ioloop.py\", line 177, in start\n    super(ZMQIOLoop, self).start()\n  File \"/home/honeywell/anaconda2/lib/python2.7/site-packages/tornado/ioloop.py\", line 888, in start\n    handler_func(fd_obj, events)\n  File \"/home/honeywell/anaconda2/lib/python2.7/site-packages/tornado/stack_context.py\", line 277, in null_wrapper\n    return fn(*args, **kwargs)\n  File \"/home/honeywell/anaconda2/lib/python2.7/site-packages/zmq/eventloop/zmqstream.py\", line 440, in _handle_events\n    self._handle_recv()\n  File \"/home/honeywell/anaconda2/lib/python2.7/site-packages/zmq/eventloop/zmqstream.py\", line 472, in _handle_recv\n    self._run_callback(callback, msg)\n  File \"/home/honeywell/anaconda2/lib/python2.7/site-packages/zmq/eventloop/zmqstream.py\", line 414, in _run_callback\n    callback(*args, **kwargs)\n  File \"/home/honeywell/anaconda2/lib/python2.7/site-packages/tornado/stack_context.py\", line 277, in null_wrapper\n    return fn(*args, **kwargs)\n  File \"/home/honeywell/anaconda2/lib/python2.7/site-packages/ipykernel/kernelbase.py\", line 283, in dispatcher\n    return self.dispatch_shell(stream, msg)\n  File \"/home/honeywell/anaconda2/lib/python2.7/site-packages/ipykernel/kernelbase.py\", line 235, in dispatch_shell\n    handler(stream, idents, msg)\n  File \"/home/honeywell/anaconda2/lib/python2.7/site-packages/ipykernel/kernelbase.py\", line 399, in execute_request\n    user_expressions, allow_stdin)\n  File \"/home/honeywell/anaconda2/lib/python2.7/site-packages/ipykernel/ipkernel.py\", line 196, in do_execute\n    res = shell.run_cell(code, store_history=store_history, silent=silent)\n  File \"/home/honeywell/anaconda2/lib/python2.7/site-packages/ipykernel/zmqshell.py\", line 533, in run_cell\n    return super(ZMQInteractiveShell, self).run_cell(*args, **kwargs)\n  File \"/home/honeywell/anaconda2/lib/python2.7/site-packages/IPython/core/interactiveshell.py\", line 2718, in run_cell\n    interactivity=interactivity, compiler=compiler, result=result)\n  File \"/home/honeywell/anaconda2/lib/python2.7/site-packages/IPython/core/interactiveshell.py\", line 2822, in run_ast_nodes\n    if self.run_code(code, result):\n  File \"/home/honeywell/anaconda2/lib/python2.7/site-packages/IPython/core/interactiveshell.py\", line 2882, in run_code\n    exec(code_obj, self.user_global_ns, self.user_ns)\n  File \"<ipython-input-87-d1a22da3ba8d>\", line 2, in <module>\n    samp = sample(checkpoint, 1000, lstm_size, len(vocab), prime=\"Far\")\n  File \"<ipython-input-84-8eb787ae9642>\", line 4, in sample\n    saver = tf.train.Saver()\n  File \"/home/honeywell/anaconda2/lib/python2.7/site-packages/tensorflow/python/training/saver.py\", line 1218, in __init__\n    self.build()\n  File \"/home/honeywell/anaconda2/lib/python2.7/site-packages/tensorflow/python/training/saver.py\", line 1227, in build\n    self._build(self._filename, build_save=True, build_restore=True)\n  File \"/home/honeywell/anaconda2/lib/python2.7/site-packages/tensorflow/python/training/saver.py\", line 1263, in _build\n    build_save=build_save, build_restore=build_restore)\n  File \"/home/honeywell/anaconda2/lib/python2.7/site-packages/tensorflow/python/training/saver.py\", line 751, in _build_internal\n    restore_sequentially, reshape)\n  File \"/home/honeywell/anaconda2/lib/python2.7/site-packages/tensorflow/python/training/saver.py\", line 427, in _AddRestoreOps\n    tensors = self.restore_op(filename_tensor, saveable, preferred_shard)\n  File \"/home/honeywell/anaconda2/lib/python2.7/site-packages/tensorflow/python/training/saver.py\", line 267, in restore_op\n    [spec.tensor.dtype])[0])\n  File \"/home/honeywell/anaconda2/lib/python2.7/site-packages/tensorflow/python/ops/gen_io_ops.py\", line 1021, in restore_v2\n    shape_and_slices=shape_and_slices, dtypes=dtypes, name=name)\n  File \"/home/honeywell/anaconda2/lib/python2.7/site-packages/tensorflow/python/framework/op_def_library.py\", line 787, in _apply_op_helper\n    op_def=op_def)\n  File \"/home/honeywell/anaconda2/lib/python2.7/site-packages/tensorflow/python/framework/ops.py\", line 2956, in create_op\n    op_def=op_def)\n  File \"/home/honeywell/anaconda2/lib/python2.7/site-packages/tensorflow/python/framework/ops.py\", line 1470, in __init__\n    self._traceback = self._graph._extract_stack()  # pylint: disable=protected-access\n\nNotFoundError (see above for traceback): Unsuccessful TensorSliceReader constructor: Failed to find any matching files for checkpoints/i200_l512.ckpt\n\t [[Node: save/RestoreV2 = RestoreV2[dtypes=[DT_FLOAT], _device=\"/job:localhost/replica:0/task:0/device:CPU:0\"](_arg_save/Const_0_0, save/RestoreV2/tensor_names, save/RestoreV2/shape_and_slices)]]\n"
     ]
    }
   ],
   "source": [
    "checkpoint = 'checkpoints/i200_l512.ckpt'\n",
    "samp = sample(checkpoint, 1000, lstm_size, len(vocab), prime=\"Far\")\n",
    "print(samp)"
   ]
  },
  {
   "cell_type": "code",
   "execution_count": null,
   "metadata": {
    "collapsed": true
   },
   "outputs": [],
   "source": [
    "checkpoint = 'checkpoints/i600_l512.ckpt'\n",
    "samp = sample(checkpoint, 1000, lstm_size, len(vocab), prime=\"Far\")\n",
    "print(samp)"
   ]
  },
  {
   "cell_type": "code",
   "execution_count": null,
   "metadata": {
    "collapsed": true
   },
   "outputs": [],
   "source": [
    "checkpoint = 'checkpoints/i1200_l512.ckpt'\n",
    "samp = sample(checkpoint, 1000, lstm_size, len(vocab), prime=\"Far\")\n",
    "print(samp)"
   ]
  }
 ],
 "metadata": {
  "kernelspec": {
   "display_name": "Python 2",
   "language": "python",
   "name": "python2"
  },
  "language_info": {
   "codemirror_mode": {
    "name": "ipython",
    "version": 2
   },
   "file_extension": ".py",
   "mimetype": "text/x-python",
   "name": "python",
   "nbconvert_exporter": "python",
   "pygments_lexer": "ipython2",
   "version": "2.7.14"
  }
 },
 "nbformat": 4,
 "nbformat_minor": 2
}
